{
 "cells": [
  {
   "cell_type": "code",
   "execution_count": 1,
   "metadata": {},
   "outputs": [],
   "source": [
    "import pandas as pd"
   ]
  },
  {
   "cell_type": "code",
   "execution_count": 2,
   "metadata": {},
   "outputs": [
    {
     "data": {
      "text/html": [
       "<div>\n",
       "<style scoped>\n",
       "    .dataframe tbody tr th:only-of-type {\n",
       "        vertical-align: middle;\n",
       "    }\n",
       "\n",
       "    .dataframe tbody tr th {\n",
       "        vertical-align: top;\n",
       "    }\n",
       "\n",
       "    .dataframe thead th {\n",
       "        text-align: right;\n",
       "    }\n",
       "</style>\n",
       "<table border=\"1\" class=\"dataframe\">\n",
       "  <thead>\n",
       "    <tr style=\"text-align: right;\">\n",
       "      <th></th>\n",
       "      <th>Time</th>\n",
       "      <th>SYMBOL_NAME</th>\n",
       "      <th>NV_rand</th>\n",
       "      <th>VOLUME_rand</th>\n",
       "    </tr>\n",
       "  </thead>\n",
       "  <tbody>\n",
       "    <tr>\n",
       "      <th>0</th>\n",
       "      <td>2021-09-20 09:30:00</td>\n",
       "      <td>NYSE_TAQ::A</td>\n",
       "      <td>2.523433e+07</td>\n",
       "      <td>136317.0</td>\n",
       "    </tr>\n",
       "    <tr>\n",
       "      <th>1</th>\n",
       "      <td>2021-09-20 09:30:00</td>\n",
       "      <td>NYSE_TAQ::AA</td>\n",
       "      <td>3.253425e+07</td>\n",
       "      <td>721069.0</td>\n",
       "    </tr>\n",
       "    <tr>\n",
       "      <th>2</th>\n",
       "      <td>2021-09-20 09:30:00</td>\n",
       "      <td>NYSE_TAQ::AAA</td>\n",
       "      <td>4.796918e+01</td>\n",
       "      <td>2.0</td>\n",
       "    </tr>\n",
       "    <tr>\n",
       "      <th>3</th>\n",
       "      <td>2021-09-20 09:30:00</td>\n",
       "      <td>NYSE_TAQ::AAAU</td>\n",
       "      <td>3.942529e+05</td>\n",
       "      <td>23543.0</td>\n",
       "    </tr>\n",
       "    <tr>\n",
       "      <th>4</th>\n",
       "      <td>2021-09-20 09:30:00</td>\n",
       "      <td>NYSE_TAQ::AAC</td>\n",
       "      <td>3.458813e+03</td>\n",
       "      <td>364.0</td>\n",
       "    </tr>\n",
       "  </tbody>\n",
       "</table>\n",
       "</div>"
      ],
      "text/plain": [
       "                  Time     SYMBOL_NAME       NV_rand  VOLUME_rand\n",
       "0  2021-09-20 09:30:00     NYSE_TAQ::A  2.523433e+07     136317.0\n",
       "1  2021-09-20 09:30:00    NYSE_TAQ::AA  3.253425e+07     721069.0\n",
       "2  2021-09-20 09:30:00   NYSE_TAQ::AAA  4.796918e+01          2.0\n",
       "3  2021-09-20 09:30:00  NYSE_TAQ::AAAU  3.942529e+05      23543.0\n",
       "4  2021-09-20 09:30:00   NYSE_TAQ::AAC  3.458813e+03        364.0"
      ]
     },
     "execution_count": 2,
     "metadata": {},
     "output_type": "execute_result"
    }
   ],
   "source": [
    "data = pd.read_csv('C:\\\\Users\\\\lenovo\\\\Downloads\\\\VolumeAndNVbySymbol_wRand.csv')\n",
    "data.head()"
   ]
  },
  {
   "cell_type": "code",
   "execution_count": 3,
   "metadata": {},
   "outputs": [
    {
     "data": {
      "text/html": [
       "<div>\n",
       "<style scoped>\n",
       "    .dataframe tbody tr th:only-of-type {\n",
       "        vertical-align: middle;\n",
       "    }\n",
       "\n",
       "    .dataframe tbody tr th {\n",
       "        vertical-align: top;\n",
       "    }\n",
       "\n",
       "    .dataframe thead th {\n",
       "        text-align: right;\n",
       "    }\n",
       "</style>\n",
       "<table border=\"1\" class=\"dataframe\">\n",
       "  <thead>\n",
       "    <tr style=\"text-align: right;\">\n",
       "      <th></th>\n",
       "      <th>Time</th>\n",
       "      <th>SYMBOL_NAME</th>\n",
       "      <th>NV_rand</th>\n",
       "      <th>VOLUME_rand</th>\n",
       "      <th>Product</th>\n",
       "    </tr>\n",
       "  </thead>\n",
       "  <tbody>\n",
       "    <tr>\n",
       "      <th>0</th>\n",
       "      <td>2021-09-20 09:30:00</td>\n",
       "      <td>NYSE_TAQ::A</td>\n",
       "      <td>2.523433e+07</td>\n",
       "      <td>136317.0</td>\n",
       "      <td>3.439869e+12</td>\n",
       "    </tr>\n",
       "    <tr>\n",
       "      <th>1</th>\n",
       "      <td>2021-09-20 09:30:00</td>\n",
       "      <td>NYSE_TAQ::AA</td>\n",
       "      <td>3.253425e+07</td>\n",
       "      <td>721069.0</td>\n",
       "      <td>2.345944e+13</td>\n",
       "    </tr>\n",
       "    <tr>\n",
       "      <th>2</th>\n",
       "      <td>2021-09-20 09:30:00</td>\n",
       "      <td>NYSE_TAQ::AAA</td>\n",
       "      <td>4.796918e+01</td>\n",
       "      <td>2.0</td>\n",
       "      <td>9.593836e+01</td>\n",
       "    </tr>\n",
       "    <tr>\n",
       "      <th>3</th>\n",
       "      <td>2021-09-20 09:30:00</td>\n",
       "      <td>NYSE_TAQ::AAAU</td>\n",
       "      <td>3.942529e+05</td>\n",
       "      <td>23543.0</td>\n",
       "      <td>9.281896e+09</td>\n",
       "    </tr>\n",
       "    <tr>\n",
       "      <th>4</th>\n",
       "      <td>2021-09-20 09:30:00</td>\n",
       "      <td>NYSE_TAQ::AAC</td>\n",
       "      <td>3.458813e+03</td>\n",
       "      <td>364.0</td>\n",
       "      <td>1.259008e+06</td>\n",
       "    </tr>\n",
       "  </tbody>\n",
       "</table>\n",
       "</div>"
      ],
      "text/plain": [
       "                  Time     SYMBOL_NAME       NV_rand  VOLUME_rand  \\\n",
       "0  2021-09-20 09:30:00     NYSE_TAQ::A  2.523433e+07     136317.0   \n",
       "1  2021-09-20 09:30:00    NYSE_TAQ::AA  3.253425e+07     721069.0   \n",
       "2  2021-09-20 09:30:00   NYSE_TAQ::AAA  4.796918e+01          2.0   \n",
       "3  2021-09-20 09:30:00  NYSE_TAQ::AAAU  3.942529e+05      23543.0   \n",
       "4  2021-09-20 09:30:00   NYSE_TAQ::AAC  3.458813e+03        364.0   \n",
       "\n",
       "        Product  \n",
       "0  3.439869e+12  \n",
       "1  2.345944e+13  \n",
       "2  9.593836e+01  \n",
       "3  9.281896e+09  \n",
       "4  1.259008e+06  "
      ]
     },
     "execution_count": 3,
     "metadata": {},
     "output_type": "execute_result"
    }
   ],
   "source": [
    "data['Product'] = data['NV_rand']*data['VOLUME_rand']\n",
    "data.head()"
   ]
  },
  {
   "cell_type": "code",
   "execution_count": 4,
   "metadata": {},
   "outputs": [
    {
     "name": "stdout",
     "output_type": "stream",
     "text": [
      "The weighted average of VOLUME_rand taking NV_rand as weights is : 932572.8790457677\n"
     ]
    }
   ],
   "source": [
    "numerator = data['Product'].sum()\n",
    "denominator = data['NV_rand'].sum() #adding all the weights\n",
    "wavg = numerator/denominator\n",
    "print('The weighted average of VOLUME_rand taking NV_rand as weights is :', wavg)"
   ]
  },
  {
   "cell_type": "code",
   "execution_count": 5,
   "metadata": {},
   "outputs": [
    {
     "name": "stdout",
     "output_type": "stream",
     "text": [
      "5% of the total weights: 55793546199.73199\n"
     ]
    },
    {
     "data": {
      "text/html": [
       "<div>\n",
       "<style scoped>\n",
       "    .dataframe tbody tr th:only-of-type {\n",
       "        vertical-align: middle;\n",
       "    }\n",
       "\n",
       "    .dataframe tbody tr th {\n",
       "        vertical-align: top;\n",
       "    }\n",
       "\n",
       "    .dataframe thead th {\n",
       "        text-align: right;\n",
       "    }\n",
       "</style>\n",
       "<table border=\"1\" class=\"dataframe\">\n",
       "  <thead>\n",
       "    <tr style=\"text-align: right;\">\n",
       "      <th></th>\n",
       "      <th>Time</th>\n",
       "      <th>SYMBOL_NAME</th>\n",
       "      <th>NV_rand</th>\n",
       "      <th>VOLUME_rand</th>\n",
       "      <th>Product</th>\n",
       "    </tr>\n",
       "  </thead>\n",
       "  <tbody>\n",
       "    <tr>\n",
       "      <th>0</th>\n",
       "      <td>2021-09-20 13:50:00</td>\n",
       "      <td>NYSE_TAQ::SHIPW</td>\n",
       "      <td>0.066305</td>\n",
       "      <td>1.0</td>\n",
       "      <td>0.066305</td>\n",
       "    </tr>\n",
       "    <tr>\n",
       "      <th>1</th>\n",
       "      <td>2021-09-21 09:40:00</td>\n",
       "      <td>NYSE_TAQ::GSMGW</td>\n",
       "      <td>0.091289</td>\n",
       "      <td>1.0</td>\n",
       "      <td>0.091289</td>\n",
       "    </tr>\n",
       "    <tr>\n",
       "      <th>2</th>\n",
       "      <td>2021-09-21 13:10:00</td>\n",
       "      <td>NYSE_TAQ::NSPRZ</td>\n",
       "      <td>0.119558</td>\n",
       "      <td>1.0</td>\n",
       "      <td>0.119558</td>\n",
       "    </tr>\n",
       "    <tr>\n",
       "      <th>3</th>\n",
       "      <td>2021-09-21 15:40:00</td>\n",
       "      <td>NYSE_TAQ::NSPRZ</td>\n",
       "      <td>0.120488</td>\n",
       "      <td>1.0</td>\n",
       "      <td>0.120488</td>\n",
       "    </tr>\n",
       "    <tr>\n",
       "      <th>4</th>\n",
       "      <td>2021-09-21 15:20:00</td>\n",
       "      <td>NYSE_TAQ::SNGXW</td>\n",
       "      <td>0.121610</td>\n",
       "      <td>1.0</td>\n",
       "      <td>0.121610</td>\n",
       "    </tr>\n",
       "  </tbody>\n",
       "</table>\n",
       "</div>"
      ],
      "text/plain": [
       "                  Time      SYMBOL_NAME   NV_rand  VOLUME_rand   Product\n",
       "0  2021-09-20 13:50:00  NYSE_TAQ::SHIPW  0.066305          1.0  0.066305\n",
       "1  2021-09-21 09:40:00  NYSE_TAQ::GSMGW  0.091289          1.0  0.091289\n",
       "2  2021-09-21 13:10:00  NYSE_TAQ::NSPRZ  0.119558          1.0  0.119558\n",
       "3  2021-09-21 15:40:00  NYSE_TAQ::NSPRZ  0.120488          1.0  0.120488\n",
       "4  2021-09-21 15:20:00  NYSE_TAQ::SNGXW  0.121610          1.0  0.121610"
      ]
     },
     "execution_count": 5,
     "metadata": {},
     "output_type": "execute_result"
    }
   ],
   "source": [
    "NV_5 = 0.05*data['NV_rand'].sum()\n",
    "print('5% of the total weights:', NV_5)\n",
    "sorted_data = data.sort_values(by = ['NV_rand']) #sorting the weights in ascending order\n",
    "sorted_data = sorted_data.reset_index(drop=True)\n",
    "sorted_data.head()"
   ]
  },
  {
   "cell_type": "code",
   "execution_count": 11,
   "metadata": {},
   "outputs": [
    {
     "name": "stdout",
     "output_type": "stream",
     "text": [
      "The number of weights that have to be removed from top in ascending order 523243\n",
      "The highest weighted average of VOLUME_rand removing the lowest weights constituting 5% total NV_rand : 980555.0947761849\n"
     ]
    }
   ],
   "source": [
    "#removing the lowest weights that make up 5% of the NV_rand sum \n",
    "sum_5 = 0\n",
    "i = 0\n",
    "while sum_5 < NV_5 + 0.00001:\n",
    "    sum_5 = sum_5 + sorted_data['NV_rand'][i]\n",
    "    i = i+1\n",
    "print('The number of weights that have to be removed from top in ascending order',i)\n",
    "\n",
    "#removing 5% of the lowest weights and computing the weighted average\n",
    "low_data = sorted_data[i::]\n",
    "numerator = low_data['Product'].sum()\n",
    "denominator = low_data['NV_rand'].sum() #adding all the weights\n",
    "wavg = numerator/denominator\n",
    "print('The highest weighted average of VOLUME_rand removing the lowest weights constituting 5% total NV_rand :', wavg)"
   ]
  },
  {
   "cell_type": "code",
   "execution_count": 7,
   "metadata": {},
   "outputs": [
    {
     "name": "stdout",
     "output_type": "stream",
     "text": [
      "The number of weights that have to be removed from the bottom when NV_rand is in ascending order: 30\n",
      "The lowest weighted average of VOLUME_rand removing the highest weights constituting 5  : 683162.1270870981\n"
     ]
    }
   ],
   "source": [
    "#removing the highest weights that make up 5% of total NV_rand\n",
    "sum_5 = 0\n",
    "i = len(data)-1\n",
    "while sum_5 < NV_5+0.00001:\n",
    "    sum_5 = sum_5 + sorted_data['NV_rand'][i]\n",
    "    i = i-1\n",
    "print('The number of weights that have to be removed from the bottom when NV_rand is in ascending order:',len(data)-i)\n",
    "\n",
    "#removing the highest weights that constitute 5% of total NV_rand\n",
    "high_data = sorted_data[0:i] \n",
    "numerator = high_data['Product'].sum()\n",
    "denominator = high_data['NV_rand'].sum() #adding all the weights\n",
    "wavg = numerator/denominator\n",
    "print('The lowest weighted average of VOLUME_rand removing the highest weights constituting 5% of total NV_rand  :', wavg)"
   ]
  },
  {
   "cell_type": "code",
   "execution_count": 8,
   "metadata": {},
   "outputs": [
    {
     "name": "stdout",
     "output_type": "stream",
     "text": [
      "Weighted average for VOL_rand for each SYMBOL_NAME:\n"
     ]
    },
    {
     "data": {
      "text/plain": [
       "SYMBOL_NAME\n",
       "NYSE_TAQ::A         59055.131443\n",
       "NYSE_TAQ::AA       401772.994139\n",
       "NYSE_TAQ::AAA         216.234284\n",
       "NYSE_TAQ::AAAU      14142.972351\n",
       "NYSE_TAQ::AAC      152856.937705\n",
       "                       ...      \n",
       "NYSE_TAQ::ZXZZT      4468.672482\n",
       "NYSE_TAQ::ZY        33126.221257\n",
       "NYSE_TAQ::ZYME      36765.933734\n",
       "NYSE_TAQ::ZYNE     173443.841299\n",
       "NYSE_TAQ::ZYXI      19790.275846\n",
       "Length: 11020, dtype: float64"
      ]
     },
     "execution_count": 8,
     "metadata": {},
     "output_type": "execute_result"
    }
   ],
   "source": [
    "NV_group = data.groupby('SYMBOL_NAME')['NV_rand'].sum()# sum of NV_rand for each symbol\n",
    "#to get the weighted average for VOL_rand for each symbol\n",
    "product_group = data.groupby('SYMBOL_NAME')['Product'].sum() # sum of the weighted VOL_rand for each symbol\n",
    "wavg_group = product_group/NV_group # weighted average for each symbol\n",
    "print('Weighted average for VOL_rand for each SYMBOL_NAME:')\n",
    "wavg_group"
   ]
  },
  {
   "cell_type": "code",
   "execution_count": 9,
   "metadata": {},
   "outputs": [
    {
     "name": "stdout",
     "output_type": "stream",
     "text": [
      "The weighted average of VOL_rand totals is:\n"
     ]
    },
    {
     "data": {
      "text/plain": [
       "46107084.54968088"
      ]
     },
     "execution_count": 9,
     "metadata": {},
     "output_type": "execute_result"
    }
   ],
   "source": [
    "VOL_group = data.groupby('SYMBOL_NAME')['VOLUME_rand'].sum()\n",
    "pdt = VOL_group*NV_group #multiplying VOL_rand by NV_rand as weights for each symbol\n",
    "numerator = pdt.sum()\n",
    "denominator = NV_group.sum()\n",
    "wavg_symbol = numerator/denominator\n",
    "print('The weighted average of VOL_rand totals is:')\n",
    "wavg_symbol"
   ]
  },
  {
   "cell_type": "code",
   "execution_count": 10,
   "metadata": {},
   "outputs": [
    {
     "name": "stdout",
     "output_type": "stream",
     "text": [
      "We do not get the same result as 1, cause the sum of the NV_rand elements individually and the aggregated symbols is the same  that means the denominator is the same but the weights and individual VOL_rand values while calculating the weighted sum of VOL_rand values are different here.Therefore numerator becomes different and this answer is different from 1 \n"
     ]
    }
   ],
   "source": [
    "print('We do not get the same result as 1, cause the sum of the NV_rand elements individually and the aggregated symbols is the same  ' \n",
    "      'that means the denominator is the same but the weights and individual VOL_rand values while calculating the weighted sum of VOL_rand values are different here.' \n",
    "      'Therefore numerator becomes different and this answer is different from 1 ')"
   ]
  },
  {
   "cell_type": "code",
   "execution_count": null,
   "metadata": {},
   "outputs": [],
   "source": []
  }
 ],
 "metadata": {
  "kernelspec": {
   "display_name": "Python 3",
   "language": "python",
   "name": "python3"
  },
  "language_info": {
   "codemirror_mode": {
    "name": "ipython",
    "version": 3
   },
   "file_extension": ".py",
   "mimetype": "text/x-python",
   "name": "python",
   "nbconvert_exporter": "python",
   "pygments_lexer": "ipython3",
   "version": "3.7.6"
  }
 },
 "nbformat": 4,
 "nbformat_minor": 4
}
