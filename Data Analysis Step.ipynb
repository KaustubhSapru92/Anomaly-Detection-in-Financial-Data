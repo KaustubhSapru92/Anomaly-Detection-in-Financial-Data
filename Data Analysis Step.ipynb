{
 "cells": [
  {
   "cell_type": "code",
   "execution_count": 17,
   "metadata": {},
   "outputs": [],
   "source": [
    "import argparse\n",
    "import os\n",
    "from datetime import date\n",
    "from datetime import datetime\n",
    "import datetime as dt\n",
    "import pandas as pd\n",
    "import numpy as np\n",
    "from numpy.random import randint"
   ]
  },
  {
   "cell_type": "code",
   "execution_count": 1,
   "metadata": {},
   "outputs": [],
   "source": [
    "import pandas as pd\n",
    "D1 = pd.read_csv(\"C:\\\\Users\\\\lenovo\\\\Desktop\\\\CCNY\\\\Adversarial AI\\\\Day1_Trades_SPY.csv\")\n",
    "D2 = pd.read_csv(\"C:\\\\Users\\\\lenovo\\\\Desktop\\\\CCNY\\\\Adversarial AI\\\\Day2_Trades_SPY.csv\")\n",
    "D3 = pd.read_csv(\"C:\\\\Users\\\\lenovo\\\\Desktop\\\\CCNY\\\\Adversarial AI\\\\Day3_Trades_SPY.csv\")\n",
    "D4 = pd.read_csv(\"C:\\\\Users\\\\lenovo\\\\Desktop\\\\CCNY\\\\Adversarial AI\\\\Day4_Trades_SPY.csv\")\n",
    "D5 = pd.read_csv(\"C:\\\\Users\\\\lenovo\\\\Desktop\\\\CCNY\\\\Adversarial AI\\\\Day5_Trades_SPY.csv\")"
   ]
  },
  {
   "cell_type": "code",
   "execution_count": 3,
   "metadata": {},
   "outputs": [],
   "source": [
    "def applyToDays(function_name):\n",
    "    return print(D1.function_name,D2.function_name,D3.function_name,D4.function_name,D5.function_name)"
   ]
  },
  {
   "cell_type": "code",
   "execution_count": 7,
   "metadata": {},
   "outputs": [
    {
     "name": "stdout",
     "output_type": "stream",
     "text": [
      "342068\n",
      "314071\n",
      "270851\n",
      "2803902\n",
      "231404\n"
     ]
    }
   ],
   "source": [
    "print(len(D1))\n",
    "print(len(D2))\n",
    "print(len(D3))\n",
    "print(len(D4))\n",
    "print(len(D5))"
   ]
  },
  {
   "cell_type": "code",
   "execution_count": 173,
   "metadata": {},
   "outputs": [
    {
     "data": {
      "text/plain": [
       "'Z'"
      ]
     },
     "execution_count": 173,
     "metadata": {},
     "output_type": "execute_result"
    }
   ],
   "source": [
    "D1.EXCHANGE.unique()[0]\n"
   ]
  },
  {
   "cell_type": "code",
   "execution_count": 26,
   "metadata": {},
   "outputs": [
    {
     "data": {
      "text/plain": [
       "Time                2635390\n",
       "PRICE                  1854\n",
       "SIZE                   3453\n",
       "EXCHANGE                 14\n",
       "PARTICIPANT_TIME    2177755\n",
       "dtype: int64"
      ]
     },
     "execution_count": 26,
     "metadata": {},
     "output_type": "execute_result"
    }
   ],
   "source": [
    "D4.nunique(axis=0)"
   ]
  },
  {
   "cell_type": "code",
   "execution_count": 30,
   "metadata": {},
   "outputs": [
    {
     "data": {
      "text/plain": [
       "P    80506\n",
       "T    69064\n",
       "Z    45608\n",
       "D    42927\n",
       "K    29712\n",
       "J    12506\n",
       "X    11054\n",
       "Y     8609\n",
       "V     7045\n",
       "B     5015\n",
       "M     1340\n",
       "A      685\n",
       "Name: EXCHANGE, dtype: int64"
      ]
     },
     "execution_count": 30,
     "metadata": {},
     "output_type": "execute_result"
    }
   ],
   "source": [
    "values = D2.EXCHANGE.value_counts()\n",
    "values"
   ]
  },
  {
   "cell_type": "code",
   "execution_count": 34,
   "metadata": {},
   "outputs": [
    {
     "data": {
      "text/plain": [
       "238.21    3440\n",
       "238.20    3423\n",
       "238.22    3354\n",
       "238.23    3341\n",
       "238.17    3337\n",
       "          ... \n",
       "246.27       1\n",
       "227.86       1\n",
       "246.86       1\n",
       "248.49       1\n",
       "246.93       1\n",
       "Name: PRICE, Length: 1854, dtype: int64"
      ]
     },
     "execution_count": 34,
     "metadata": {},
     "output_type": "execute_result"
    }
   ],
   "source": [
    "D4.PRICE.value_counts()"
   ]
  },
  {
   "cell_type": "code",
   "execution_count": 54,
   "metadata": {},
   "outputs": [
    {
     "name": "stdout",
     "output_type": "stream",
     "text": [
      "236.28\n",
      "472.76\n",
      "709.21\n",
      "945.61\n",
      "1181.65\n",
      "1417.8000000000002\n",
      "1654.1800000000003\n",
      "1890.3400000000004\n",
      "2126.51\n",
      "2362.78\n",
      "2598.84\n",
      "2835.32\n",
      "3071.5600000000004\n",
      "3307.9100000000003\n",
      "3544.0600000000004\n",
      "3780.4800000000005\n",
      "4016.5900000000006\n",
      "4252.960000000001\n",
      "4488.980000000001\n",
      "4725.000000000002\n",
      "4961.250000000002\n",
      "5197.640000000002\n",
      "5433.950000000003\n",
      "5670.170000000003\n",
      "5906.450000000003\n",
      "6142.500000000003\n",
      "6378.830000000003\n",
      "6614.910000000003\n",
      "6851.120000000003\n",
      "7087.360000000002\n",
      "7323.400000000002\n",
      "7559.770000000002\n",
      "7796.110000000002\n",
      "8032.270000000002\n",
      "8268.750000000002\n",
      "8505.150000000001\n",
      "8741.53\n",
      "8977.86\n",
      "9213.93\n",
      "9450.12\n",
      "9686.25\n",
      "9922.56\n",
      "10158.9\n",
      "10395.02\n",
      "10631.24\n",
      "10867.43\n",
      "11103.880000000001\n",
      "11340.050000000001\n",
      "11576.37\n",
      "11812.78\n",
      "12049.0\n",
      "12285.14\n",
      "12521.48\n",
      "12757.57\n",
      "12993.65\n",
      "13229.779999999999\n",
      "13465.89\n",
      "13701.939999999999\n",
      "13938.39\n",
      "14174.609999999999\n",
      "14410.669999999998\n",
      "14647.069999999998\n",
      "14883.109999999999\n",
      "15119.569999999998\n",
      "15355.959999999997\n",
      "15592.109999999997\n",
      "15828.499999999996\n",
      "16064.759999999997\n",
      "16301.059999999996\n",
      "16537.089999999997\n",
      "16773.559999999998\n",
      "17009.719999999998\n",
      "17245.94\n",
      "17482.129999999997\n",
      "17718.289999999997\n",
      "17954.659999999996\n",
      "18191.059999999998\n",
      "18427.39\n",
      "18663.47\n",
      "18899.74\n",
      "19136.16\n",
      "19372.59\n",
      "19608.99\n",
      "19845.38\n",
      "20081.45\n",
      "20317.58\n",
      "20553.910000000003\n",
      "20790.000000000004\n",
      "21026.270000000004\n",
      "21262.570000000003\n",
      "21498.74\n",
      "21734.780000000002\n",
      "21970.910000000003\n",
      "22207.180000000004\n",
      "22443.360000000004\n",
      "22679.440000000006\n",
      "22915.900000000005\n",
      "23152.150000000005\n",
      "23388.250000000004\n",
      "23624.490000000005\n",
      "23860.750000000004\n",
      "24096.930000000004\n",
      "24333.020000000004\n",
      "24569.220000000005\n",
      "24805.630000000005\n",
      "25042.060000000005\n",
      "25278.150000000005\n",
      "25514.240000000005\n",
      "25750.300000000007\n",
      "25986.350000000006\n",
      "26222.640000000007\n",
      "26459.060000000005\n",
      "26695.390000000007\n",
      "26931.600000000006\n",
      "27167.730000000007\n",
      "27403.88000000001\n",
      "27640.12000000001\n",
      "27876.540000000008\n",
      "28112.700000000008\n",
      "28348.88000000001\n",
      "28585.12000000001\n",
      "28821.20000000001\n",
      "29057.27000000001\n",
      "29293.69000000001\n",
      "29529.84000000001\n",
      "29766.19000000001\n",
      "30002.450000000008\n",
      "30238.51000000001\n",
      "30474.92000000001\n",
      "30711.35000000001\n",
      "30947.38000000001\n",
      "31183.750000000007\n",
      "31419.780000000006\n",
      "31656.170000000006\n",
      "31892.620000000006\n",
      "32128.630000000005\n",
      "32364.790000000005\n",
      "32601.240000000005\n",
      "32837.3\n",
      "33073.71000000001\n",
      "33310.00000000001\n",
      "33546.340000000004\n",
      "33782.490000000005\n",
      "34018.75000000001\n",
      "34254.97000000001\n",
      "34491.21000000001\n",
      "34727.44000000001\n",
      "34963.66000000001\n",
      "35199.67000000001\n",
      "35435.81000000001\n",
      "35672.27000000001\n",
      "35908.41000000001\n",
      "36144.68000000001\n",
      "36381.100000000006\n",
      "36617.29000000001\n",
      "36853.64000000001\n",
      "37089.990000000005\n",
      "37326.16\n",
      "37562.340000000004\n",
      "37798.560000000005\n",
      "38035.04000000001\n",
      "38271.46000000001\n",
      "38507.76000000001\n",
      "38744.100000000006\n",
      "38980.310000000005\n",
      "39216.600000000006\n",
      "39452.840000000004\n",
      "39688.87\n",
      "39925.05\n",
      "40161.5\n",
      "40397.66\n",
      "40633.9\n",
      "40870.22\n",
      "41106.61\n",
      "41343.08\n",
      "41579.36\n",
      "41815.38\n",
      "42051.549999999996\n",
      "42287.719999999994\n",
      "42523.77\n",
      "42760.13\n",
      "42996.159999999996\n",
      "43232.39\n",
      "43468.42\n",
      "43704.7\n",
      "43941.03999999999\n",
      "44177.369999999995\n",
      "44413.829999999994\n",
      "44650.03999999999\n",
      "44886.2\n",
      "45122.24\n",
      "45358.409999999996\n",
      "45594.729999999996\n",
      "45831.13\n",
      "46067.409999999996\n",
      "46303.71\n",
      "46539.909999999996\n",
      "46776.159999999996\n",
      "47012.60999999999\n",
      "47248.729999999996\n",
      "47485.21\n",
      "47721.29\n",
      "47957.520000000004\n",
      "48193.780000000006\n",
      "48429.880000000005\n",
      "48666.19\n",
      "48902.61\n",
      "49138.770000000004\n",
      "49375.100000000006\n",
      "49611.33000000001\n",
      "49847.45000000001\n",
      "50083.960000000014\n",
      "50320.35000000001\n",
      "50556.37000000001\n",
      "50792.69000000001\n",
      "51028.86000000001\n",
      "51264.920000000006\n",
      "51501.39000000001\n",
      "51737.670000000006\n",
      "51973.72000000001\n",
      "52210.01000000001\n",
      "52446.04000000001\n",
      "52682.46000000001\n",
      "52918.630000000005\n",
      "53154.69\n",
      "53391.020000000004\n",
      "53627.14000000001\n",
      "53863.340000000004\n",
      "54099.68\n",
      "54335.94\n",
      "54572.18\n",
      "54808.44\n",
      "55044.810000000005\n",
      "55281.3\n",
      "55517.46000000001\n",
      "55753.840000000004\n",
      "55990.490000000005\n",
      "56226.98\n",
      "56463.47\n",
      "56699.9\n",
      "56936.36\n",
      "57172.85\n",
      "57408.9\n",
      "57645.25\n",
      "57881.73\n",
      "58118.200000000004\n",
      "58354.47\n",
      "58590.91\n",
      "58827.170000000006\n",
      "59063.670000000006"
     ]
    },
    {
     "ename": "KeyboardInterrupt",
     "evalue": "",
     "output_type": "error",
     "traceback": [
      "\u001b[1;31m---------------------------------------------------------------------------\u001b[0m",
      "\u001b[1;31mKeyboardInterrupt\u001b[0m                         Traceback (most recent call last)",
      "\u001b[1;32m<ipython-input-54-d3e6c711f37e>\u001b[0m in \u001b[0;36m<module>\u001b[1;34m\u001b[0m\n\u001b[0;32m      3\u001b[0m     \u001b[1;32mif\u001b[0m \u001b[0mD4\u001b[0m\u001b[1;33m.\u001b[0m\u001b[0mEXCHANGE\u001b[0m\u001b[1;33m[\u001b[0m\u001b[0mi\u001b[0m\u001b[1;33m]\u001b[0m \u001b[1;33m==\u001b[0m \u001b[0mD4\u001b[0m\u001b[1;33m.\u001b[0m\u001b[0mEXCHANGE\u001b[0m\u001b[1;33m.\u001b[0m\u001b[0munique\u001b[0m\u001b[1;33m(\u001b[0m\u001b[1;33m)\u001b[0m\u001b[1;33m[\u001b[0m\u001b[1;36m0\u001b[0m\u001b[1;33m]\u001b[0m\u001b[1;33m:\u001b[0m\u001b[1;33m\u001b[0m\u001b[1;33m\u001b[0m\u001b[0m\n\u001b[0;32m      4\u001b[0m         \u001b[0msum\u001b[0m\u001b[1;33m=\u001b[0m \u001b[0msum\u001b[0m \u001b[1;33m+\u001b[0m \u001b[0mD4\u001b[0m\u001b[1;33m.\u001b[0m\u001b[0mPRICE\u001b[0m\u001b[1;33m[\u001b[0m\u001b[0mi\u001b[0m\u001b[1;33m]\u001b[0m\u001b[1;33m\u001b[0m\u001b[1;33m\u001b[0m\u001b[0m\n\u001b[1;32m----> 5\u001b[1;33m         \u001b[0mprint\u001b[0m\u001b[1;33m(\u001b[0m\u001b[0msum\u001b[0m\u001b[1;33m)\u001b[0m\u001b[1;33m\u001b[0m\u001b[1;33m\u001b[0m\u001b[0m\n\u001b[0m",
      "\u001b[1;32m~\\anaconda3\\lib\\site-packages\\ipykernel\\iostream.py\u001b[0m in \u001b[0;36mwrite\u001b[1;34m(self, string)\u001b[0m\n\u001b[0;32m    400\u001b[0m             \u001b[0mis_child\u001b[0m \u001b[1;33m=\u001b[0m \u001b[1;33m(\u001b[0m\u001b[1;32mnot\u001b[0m \u001b[0mself\u001b[0m\u001b[1;33m.\u001b[0m\u001b[0m_is_master_process\u001b[0m\u001b[1;33m(\u001b[0m\u001b[1;33m)\u001b[0m\u001b[1;33m)\u001b[0m\u001b[1;33m\u001b[0m\u001b[1;33m\u001b[0m\u001b[0m\n\u001b[0;32m    401\u001b[0m             \u001b[1;31m# only touch the buffer in the IO thread to avoid races\u001b[0m\u001b[1;33m\u001b[0m\u001b[1;33m\u001b[0m\u001b[1;33m\u001b[0m\u001b[0m\n\u001b[1;32m--> 402\u001b[1;33m             \u001b[0mself\u001b[0m\u001b[1;33m.\u001b[0m\u001b[0mpub_thread\u001b[0m\u001b[1;33m.\u001b[0m\u001b[0mschedule\u001b[0m\u001b[1;33m(\u001b[0m\u001b[1;32mlambda\u001b[0m \u001b[1;33m:\u001b[0m \u001b[0mself\u001b[0m\u001b[1;33m.\u001b[0m\u001b[0m_buffer\u001b[0m\u001b[1;33m.\u001b[0m\u001b[0mwrite\u001b[0m\u001b[1;33m(\u001b[0m\u001b[0mstring\u001b[0m\u001b[1;33m)\u001b[0m\u001b[1;33m)\u001b[0m\u001b[1;33m\u001b[0m\u001b[1;33m\u001b[0m\u001b[0m\n\u001b[0m\u001b[0;32m    403\u001b[0m             \u001b[1;32mif\u001b[0m \u001b[0mis_child\u001b[0m\u001b[1;33m:\u001b[0m\u001b[1;33m\u001b[0m\u001b[1;33m\u001b[0m\u001b[0m\n\u001b[0;32m    404\u001b[0m                 \u001b[1;31m# newlines imply flush in subprocesses\u001b[0m\u001b[1;33m\u001b[0m\u001b[1;33m\u001b[0m\u001b[1;33m\u001b[0m\u001b[0m\n",
      "\u001b[1;32m~\\anaconda3\\lib\\site-packages\\ipykernel\\iostream.py\u001b[0m in \u001b[0;36mschedule\u001b[1;34m(self, f)\u001b[0m\n\u001b[0;32m    203\u001b[0m             \u001b[0mself\u001b[0m\u001b[1;33m.\u001b[0m\u001b[0m_events\u001b[0m\u001b[1;33m.\u001b[0m\u001b[0mappend\u001b[0m\u001b[1;33m(\u001b[0m\u001b[0mf\u001b[0m\u001b[1;33m)\u001b[0m\u001b[1;33m\u001b[0m\u001b[1;33m\u001b[0m\u001b[0m\n\u001b[0;32m    204\u001b[0m             \u001b[1;31m# wake event thread (message content is ignored)\u001b[0m\u001b[1;33m\u001b[0m\u001b[1;33m\u001b[0m\u001b[1;33m\u001b[0m\u001b[0m\n\u001b[1;32m--> 205\u001b[1;33m             \u001b[0mself\u001b[0m\u001b[1;33m.\u001b[0m\u001b[0m_event_pipe\u001b[0m\u001b[1;33m.\u001b[0m\u001b[0msend\u001b[0m\u001b[1;33m(\u001b[0m\u001b[1;34mb''\u001b[0m\u001b[1;33m)\u001b[0m\u001b[1;33m\u001b[0m\u001b[1;33m\u001b[0m\u001b[0m\n\u001b[0m\u001b[0;32m    206\u001b[0m         \u001b[1;32melse\u001b[0m\u001b[1;33m:\u001b[0m\u001b[1;33m\u001b[0m\u001b[1;33m\u001b[0m\u001b[0m\n\u001b[0;32m    207\u001b[0m             \u001b[0mf\u001b[0m\u001b[1;33m(\u001b[0m\u001b[1;33m)\u001b[0m\u001b[1;33m\u001b[0m\u001b[1;33m\u001b[0m\u001b[0m\n",
      "\u001b[1;32m~\\anaconda3\\lib\\site-packages\\zmq\\sugar\\socket.py\u001b[0m in \u001b[0;36msend\u001b[1;34m(self, data, flags, copy, track, routing_id, group)\u001b[0m\n\u001b[0;32m    398\u001b[0m                                  copy_threshold=self.copy_threshold)\n\u001b[0;32m    399\u001b[0m             \u001b[0mdata\u001b[0m\u001b[1;33m.\u001b[0m\u001b[0mgroup\u001b[0m \u001b[1;33m=\u001b[0m \u001b[0mgroup\u001b[0m\u001b[1;33m\u001b[0m\u001b[1;33m\u001b[0m\u001b[0m\n\u001b[1;32m--> 400\u001b[1;33m         \u001b[1;32mreturn\u001b[0m \u001b[0msuper\u001b[0m\u001b[1;33m(\u001b[0m\u001b[0mSocket\u001b[0m\u001b[1;33m,\u001b[0m \u001b[0mself\u001b[0m\u001b[1;33m)\u001b[0m\u001b[1;33m.\u001b[0m\u001b[0msend\u001b[0m\u001b[1;33m(\u001b[0m\u001b[0mdata\u001b[0m\u001b[1;33m,\u001b[0m \u001b[0mflags\u001b[0m\u001b[1;33m=\u001b[0m\u001b[0mflags\u001b[0m\u001b[1;33m,\u001b[0m \u001b[0mcopy\u001b[0m\u001b[1;33m=\u001b[0m\u001b[0mcopy\u001b[0m\u001b[1;33m,\u001b[0m \u001b[0mtrack\u001b[0m\u001b[1;33m=\u001b[0m\u001b[0mtrack\u001b[0m\u001b[1;33m)\u001b[0m\u001b[1;33m\u001b[0m\u001b[1;33m\u001b[0m\u001b[0m\n\u001b[0m\u001b[0;32m    401\u001b[0m \u001b[1;33m\u001b[0m\u001b[0m\n\u001b[0;32m    402\u001b[0m     \u001b[1;32mdef\u001b[0m \u001b[0msend_multipart\u001b[0m\u001b[1;33m(\u001b[0m\u001b[0mself\u001b[0m\u001b[1;33m,\u001b[0m \u001b[0mmsg_parts\u001b[0m\u001b[1;33m,\u001b[0m \u001b[0mflags\u001b[0m\u001b[1;33m=\u001b[0m\u001b[1;36m0\u001b[0m\u001b[1;33m,\u001b[0m \u001b[0mcopy\u001b[0m\u001b[1;33m=\u001b[0m\u001b[1;32mTrue\u001b[0m\u001b[1;33m,\u001b[0m \u001b[0mtrack\u001b[0m\u001b[1;33m=\u001b[0m\u001b[1;32mFalse\u001b[0m\u001b[1;33m,\u001b[0m \u001b[1;33m**\u001b[0m\u001b[0mkwargs\u001b[0m\u001b[1;33m)\u001b[0m\u001b[1;33m:\u001b[0m\u001b[1;33m\u001b[0m\u001b[1;33m\u001b[0m\u001b[0m\n",
      "\u001b[1;32mzmq/backend/cython/socket.pyx\u001b[0m in \u001b[0;36mzmq.backend.cython.socket.Socket.send\u001b[1;34m()\u001b[0m\n",
      "\u001b[1;32mzmq/backend/cython/socket.pyx\u001b[0m in \u001b[0;36mzmq.backend.cython.socket.Socket.send\u001b[1;34m()\u001b[0m\n",
      "\u001b[1;32mzmq/backend/cython/socket.pyx\u001b[0m in \u001b[0;36mzmq.backend.cython.socket._send_copy\u001b[1;34m()\u001b[0m\n",
      "\u001b[1;32m~\\anaconda3\\lib\\site-packages\\zmq\\backend\\cython\\checkrc.pxd\u001b[0m in \u001b[0;36mzmq.backend.cython.checkrc._check_rc\u001b[1;34m()\u001b[0m\n",
      "\u001b[1;31mKeyboardInterrupt\u001b[0m: "
     ]
    }
   ],
   "source": [
    "sum=0\n",
    "for i in range(len(D4)): \n",
    "    if D4.EXCHANGE[i] == D4.EXCHANGE.unique()[0]:\n",
    "        sum= sum + D4.PRICE[i]\n",
    "        print(sum)"
   ]
  },
  {
   "cell_type": "code",
   "execution_count": 7,
   "metadata": {},
   "outputs": [
    {
     "data": {
      "text/plain": [
       "185032361.28"
      ]
     },
     "execution_count": 7,
     "metadata": {},
     "output_type": "execute_result"
    }
   ],
   "source": [
    "total_price = D4[D4.EXCHANGE == 'T']['PRICE'].sum()\n",
    "total_price"
   ]
  },
  {
   "cell_type": "code",
   "execution_count": 4,
   "metadata": {},
   "outputs": [
    {
     "data": {
      "text/plain": [
       "846        236.96\n",
       "847        237.13\n",
       "848        236.72\n",
       "859        236.94\n",
       "860        236.82\n",
       "            ...  \n",
       "2803897    241.43\n",
       "2803898    241.17\n",
       "2803899    241.25\n",
       "2803900    241.27\n",
       "2803901    241.20\n",
       "Name: PRICE, Length: 780651, dtype: float64"
      ]
     },
     "execution_count": 4,
     "metadata": {},
     "output_type": "execute_result"
    }
   ],
   "source": [
    "D4[D4.EXCHANGE == 'T']['PRICE']"
   ]
  },
  {
   "cell_type": "code",
   "execution_count": 5,
   "metadata": {},
   "outputs": [
    {
     "data": {
      "text/html": [
       "<div>\n",
       "<style scoped>\n",
       "    .dataframe tbody tr th:only-of-type {\n",
       "        vertical-align: middle;\n",
       "    }\n",
       "\n",
       "    .dataframe tbody tr th {\n",
       "        vertical-align: top;\n",
       "    }\n",
       "\n",
       "    .dataframe thead th {\n",
       "        text-align: right;\n",
       "    }\n",
       "</style>\n",
       "<table border=\"1\" class=\"dataframe\">\n",
       "  <thead>\n",
       "    <tr style=\"text-align: right;\">\n",
       "      <th></th>\n",
       "      <th>Time</th>\n",
       "      <th>PRICE</th>\n",
       "      <th>SIZE</th>\n",
       "      <th>EXCHANGE</th>\n",
       "      <th>PARTICIPANT_TIME</th>\n",
       "    </tr>\n",
       "  </thead>\n",
       "  <tbody>\n",
       "    <tr>\n",
       "      <th>846</th>\n",
       "      <td>09:30:01.209404</td>\n",
       "      <td>236.96</td>\n",
       "      <td>1</td>\n",
       "      <td>T</td>\n",
       "      <td>09:30:01.208869</td>\n",
       "    </tr>\n",
       "    <tr>\n",
       "      <th>847</th>\n",
       "      <td>09:30:01.234201</td>\n",
       "      <td>237.13</td>\n",
       "      <td>100</td>\n",
       "      <td>T</td>\n",
       "      <td>09:30:01.233682</td>\n",
       "    </tr>\n",
       "    <tr>\n",
       "      <th>848</th>\n",
       "      <td>09:30:01.256387</td>\n",
       "      <td>236.72</td>\n",
       "      <td>99</td>\n",
       "      <td>T</td>\n",
       "      <td>09:30:01.255830</td>\n",
       "    </tr>\n",
       "    <tr>\n",
       "      <th>859</th>\n",
       "      <td>09:30:01.265736</td>\n",
       "      <td>236.94</td>\n",
       "      <td>25</td>\n",
       "      <td>T</td>\n",
       "      <td>09:30:01.265193</td>\n",
       "    </tr>\n",
       "    <tr>\n",
       "      <th>860</th>\n",
       "      <td>09:30:01.265757</td>\n",
       "      <td>236.82</td>\n",
       "      <td>10</td>\n",
       "      <td>T</td>\n",
       "      <td>09:30:01.265193</td>\n",
       "    </tr>\n",
       "    <tr>\n",
       "      <th>...</th>\n",
       "      <td>...</td>\n",
       "      <td>...</td>\n",
       "      <td>...</td>\n",
       "      <td>...</td>\n",
       "      <td>...</td>\n",
       "    </tr>\n",
       "    <tr>\n",
       "      <th>2803897</th>\n",
       "      <td>16:00:00.275485</td>\n",
       "      <td>241.43</td>\n",
       "      <td>600</td>\n",
       "      <td>T</td>\n",
       "      <td>16:00:00.274876</td>\n",
       "    </tr>\n",
       "    <tr>\n",
       "      <th>2803898</th>\n",
       "      <td>16:00:00.275499</td>\n",
       "      <td>241.17</td>\n",
       "      <td>610</td>\n",
       "      <td>T</td>\n",
       "      <td>16:00:00.274878</td>\n",
       "    </tr>\n",
       "    <tr>\n",
       "      <th>2803899</th>\n",
       "      <td>16:00:00.275518</td>\n",
       "      <td>241.25</td>\n",
       "      <td>1090</td>\n",
       "      <td>T</td>\n",
       "      <td>16:00:00.274878</td>\n",
       "    </tr>\n",
       "    <tr>\n",
       "      <th>2803900</th>\n",
       "      <td>16:00:00.275534</td>\n",
       "      <td>241.27</td>\n",
       "      <td>10</td>\n",
       "      <td>T</td>\n",
       "      <td>16:00:00.274882</td>\n",
       "    </tr>\n",
       "    <tr>\n",
       "      <th>2803901</th>\n",
       "      <td>16:00:00.465238</td>\n",
       "      <td>241.20</td>\n",
       "      <td>100</td>\n",
       "      <td>T</td>\n",
       "      <td>16:00:00.464670</td>\n",
       "    </tr>\n",
       "  </tbody>\n",
       "</table>\n",
       "<p>780651 rows × 5 columns</p>\n",
       "</div>"
      ],
      "text/plain": [
       "                    Time   PRICE  SIZE EXCHANGE PARTICIPANT_TIME\n",
       "846      09:30:01.209404  236.96     1        T  09:30:01.208869\n",
       "847      09:30:01.234201  237.13   100        T  09:30:01.233682\n",
       "848      09:30:01.256387  236.72    99        T  09:30:01.255830\n",
       "859      09:30:01.265736  236.94    25        T  09:30:01.265193\n",
       "860      09:30:01.265757  236.82    10        T  09:30:01.265193\n",
       "...                  ...     ...   ...      ...              ...\n",
       "2803897  16:00:00.275485  241.43   600        T  16:00:00.274876\n",
       "2803898  16:00:00.275499  241.17   610        T  16:00:00.274878\n",
       "2803899  16:00:00.275518  241.25  1090        T  16:00:00.274878\n",
       "2803900  16:00:00.275534  241.27    10        T  16:00:00.274882\n",
       "2803901  16:00:00.465238  241.20   100        T  16:00:00.464670\n",
       "\n",
       "[780651 rows x 5 columns]"
      ]
     },
     "execution_count": 5,
     "metadata": {},
     "output_type": "execute_result"
    }
   ],
   "source": [
    "D4[D4.EXCHANGE == 'T']"
   ]
  },
  {
   "cell_type": "code",
   "execution_count": 14,
   "metadata": {},
   "outputs": [],
   "source": [
    "def MeanP(dataset):     \n",
    "    mean_price = []\n",
    "    for exchanges in dataset.EXCHANGE.unique():\n",
    "        total_price = dataset[dataset.EXCHANGE == str(exchanges)]['PRICE'].sum()\n",
    "        total_size = dataset[dataset.EXCHANGE == str(exchanges)]['SIZE'].sum()\n",
    "        mean_price.append(total_price/total_size)\n",
    "    return mean_price"
   ]
  },
  {
   "cell_type": "code",
   "execution_count": 19,
   "metadata": {},
   "outputs": [],
   "source": [
    "mp_d1 = MeanP(D1)\n",
    "mp_d2 = MeanP(D2)\n",
    "mp_d3 = MeanP(D3)\n",
    "mp_d4 = MeanP(D4)\n",
    "mp_d5 = MeanP(D5)"
   ]
  },
  {
   "cell_type": "code",
   "execution_count": 188,
   "metadata": {},
   "outputs": [
    {
     "data": {
      "text/plain": [
       "[<matplotlib.lines.Line2D at 0x149b2cf1b08>]"
      ]
     },
     "execution_count": 188,
     "metadata": {},
     "output_type": "execute_result"
    },
    {
     "data": {
      "image/png": "[encoded data removed]",
      "text/plain": [
       "<Figure size 432x288 with 1 Axes>"
      ]
     },
     "metadata": {
      "needs_background": "light"
     },
     "output_type": "display_data"
    }
   ],
   "source": [
    "import matplotlib.pyplot as plt\n",
    "\n",
    "plt.plot(mp_d1)\n",
    "plt.plot(mp_d2)\n",
    "plt.plot(mp_d3)\n",
    "plt.plot(mp_d4)\n",
    "plt.plot(mp_d5)"
   ]
  },
  {
   "cell_type": "code",
   "execution_count": 92,
   "metadata": {},
   "outputs": [
    {
     "data": {
      "text/html": [
       "<div>\n",
       "<style scoped>\n",
       "    .dataframe tbody tr th:only-of-type {\n",
       "        vertical-align: middle;\n",
       "    }\n",
       "\n",
       "    .dataframe tbody tr th {\n",
       "        vertical-align: top;\n",
       "    }\n",
       "\n",
       "    .dataframe thead th {\n",
       "        text-align: right;\n",
       "    }\n",
       "</style>\n",
       "<table border=\"1\" class=\"dataframe\">\n",
       "  <thead>\n",
       "    <tr style=\"text-align: right;\">\n",
       "      <th></th>\n",
       "      <th>D1</th>\n",
       "      <th>D2</th>\n",
       "      <th>D3</th>\n",
       "      <th>D4</th>\n",
       "      <th>D5</th>\n",
       "    </tr>\n",
       "  </thead>\n",
       "  <tbody>\n",
       "    <tr>\n",
       "      <th>0</th>\n",
       "      <td>NaN</td>\n",
       "      <td>NaN</td>\n",
       "      <td>NaN</td>\n",
       "      <td>NaN</td>\n",
       "      <td>NaN</td>\n",
       "    </tr>\n",
       "    <tr>\n",
       "      <th>1</th>\n",
       "      <td>NaN</td>\n",
       "      <td>NaN</td>\n",
       "      <td>NaN</td>\n",
       "      <td>NaN</td>\n",
       "      <td>NaN</td>\n",
       "    </tr>\n",
       "    <tr>\n",
       "      <th>2</th>\n",
       "      <td>NaN</td>\n",
       "      <td>NaN</td>\n",
       "      <td>NaN</td>\n",
       "      <td>NaN</td>\n",
       "      <td>NaN</td>\n",
       "    </tr>\n",
       "    <tr>\n",
       "      <th>3</th>\n",
       "      <td>NaN</td>\n",
       "      <td>NaN</td>\n",
       "      <td>NaN</td>\n",
       "      <td>NaN</td>\n",
       "      <td>NaN</td>\n",
       "    </tr>\n",
       "    <tr>\n",
       "      <th>4</th>\n",
       "      <td>NaN</td>\n",
       "      <td>NaN</td>\n",
       "      <td>NaN</td>\n",
       "      <td>NaN</td>\n",
       "      <td>NaN</td>\n",
       "    </tr>\n",
       "  </tbody>\n",
       "</table>\n",
       "</div>"
      ],
      "text/plain": [
       "    D1   D2   D3   D4   D5\n",
       "0  NaN  NaN  NaN  NaN  NaN\n",
       "1  NaN  NaN  NaN  NaN  NaN\n",
       "2  NaN  NaN  NaN  NaN  NaN\n",
       "3  NaN  NaN  NaN  NaN  NaN\n",
       "4  NaN  NaN  NaN  NaN  NaN"
      ]
     },
     "execution_count": 92,
     "metadata": {},
     "output_type": "execute_result"
    }
   ],
   "source": [
    "data_frame = pd.DataFrame(index = np.arange(len(mp_d1)), columns = ['D1','D2','D3','D4','D5'])\n",
    "data_frame.head()"
   ]
  },
  {
   "cell_type": "code",
   "execution_count": 93,
   "metadata": {},
   "outputs": [],
   "source": [
    "data_frame['D1'] = mp_d1\n",
    "#data_frame['D2'] = mp_d2\n",
    "#data_frame['D3'] = mp_d3\n",
    "#data_frame['D4'] = mp_d4\n",
    "data_frame['D5'] = mp_d5"
   ]
  },
  {
   "cell_type": "code",
   "execution_count": 94,
   "metadata": {},
   "outputs": [
    {
     "data": {
      "text/html": [
       "<div>\n",
       "<style scoped>\n",
       "    .dataframe tbody tr th:only-of-type {\n",
       "        vertical-align: middle;\n",
       "    }\n",
       "\n",
       "    .dataframe tbody tr th {\n",
       "        vertical-align: top;\n",
       "    }\n",
       "\n",
       "    .dataframe thead th {\n",
       "        text-align: right;\n",
       "    }\n",
       "</style>\n",
       "<table border=\"1\" class=\"dataframe\">\n",
       "  <thead>\n",
       "    <tr style=\"text-align: right;\">\n",
       "      <th></th>\n",
       "      <th>D1</th>\n",
       "      <th>D2</th>\n",
       "      <th>D3</th>\n",
       "      <th>D4</th>\n",
       "      <th>D5</th>\n",
       "    </tr>\n",
       "  </thead>\n",
       "  <tbody>\n",
       "    <tr>\n",
       "      <th>0</th>\n",
       "      <td>4.688247</td>\n",
       "      <td>NaN</td>\n",
       "      <td>NaN</td>\n",
       "      <td>NaN</td>\n",
       "      <td>3.872859</td>\n",
       "    </tr>\n",
       "    <tr>\n",
       "      <th>1</th>\n",
       "      <td>5.136367</td>\n",
       "      <td>NaN</td>\n",
       "      <td>NaN</td>\n",
       "      <td>NaN</td>\n",
       "      <td>4.163996</td>\n",
       "    </tr>\n",
       "    <tr>\n",
       "      <th>2</th>\n",
       "      <td>3.631376</td>\n",
       "      <td>NaN</td>\n",
       "      <td>NaN</td>\n",
       "      <td>NaN</td>\n",
       "      <td>4.542393</td>\n",
       "    </tr>\n",
       "    <tr>\n",
       "      <th>3</th>\n",
       "      <td>5.747066</td>\n",
       "      <td>NaN</td>\n",
       "      <td>NaN</td>\n",
       "      <td>NaN</td>\n",
       "      <td>3.565020</td>\n",
       "    </tr>\n",
       "    <tr>\n",
       "      <th>4</th>\n",
       "      <td>5.214295</td>\n",
       "      <td>NaN</td>\n",
       "      <td>NaN</td>\n",
       "      <td>NaN</td>\n",
       "      <td>4.090198</td>\n",
       "    </tr>\n",
       "    <tr>\n",
       "      <th>5</th>\n",
       "      <td>3.722109</td>\n",
       "      <td>NaN</td>\n",
       "      <td>NaN</td>\n",
       "      <td>NaN</td>\n",
       "      <td>2.414378</td>\n",
       "    </tr>\n",
       "    <tr>\n",
       "      <th>6</th>\n",
       "      <td>5.329852</td>\n",
       "      <td>NaN</td>\n",
       "      <td>NaN</td>\n",
       "      <td>NaN</td>\n",
       "      <td>5.166025</td>\n",
       "    </tr>\n",
       "    <tr>\n",
       "      <th>7</th>\n",
       "      <td>3.109063</td>\n",
       "      <td>NaN</td>\n",
       "      <td>NaN</td>\n",
       "      <td>NaN</td>\n",
       "      <td>3.714289</td>\n",
       "    </tr>\n",
       "    <tr>\n",
       "      <th>8</th>\n",
       "      <td>3.480769</td>\n",
       "      <td>NaN</td>\n",
       "      <td>NaN</td>\n",
       "      <td>NaN</td>\n",
       "      <td>2.722161</td>\n",
       "    </tr>\n",
       "    <tr>\n",
       "      <th>9</th>\n",
       "      <td>3.613419</td>\n",
       "      <td>NaN</td>\n",
       "      <td>NaN</td>\n",
       "      <td>NaN</td>\n",
       "      <td>2.815768</td>\n",
       "    </tr>\n",
       "    <tr>\n",
       "      <th>10</th>\n",
       "      <td>3.285603</td>\n",
       "      <td>NaN</td>\n",
       "      <td>NaN</td>\n",
       "      <td>NaN</td>\n",
       "      <td>3.572109</td>\n",
       "    </tr>\n",
       "    <tr>\n",
       "      <th>11</th>\n",
       "      <td>3.966047</td>\n",
       "      <td>NaN</td>\n",
       "      <td>NaN</td>\n",
       "      <td>NaN</td>\n",
       "      <td>4.103138</td>\n",
       "    </tr>\n",
       "    <tr>\n",
       "      <th>12</th>\n",
       "      <td>3.200968</td>\n",
       "      <td>NaN</td>\n",
       "      <td>NaN</td>\n",
       "      <td>NaN</td>\n",
       "      <td>4.836650</td>\n",
       "    </tr>\n",
       "    <tr>\n",
       "      <th>13</th>\n",
       "      <td>4.939778</td>\n",
       "      <td>NaN</td>\n",
       "      <td>NaN</td>\n",
       "      <td>NaN</td>\n",
       "      <td>2.399953</td>\n",
       "    </tr>\n",
       "    <tr>\n",
       "      <th>14</th>\n",
       "      <td>3.116573</td>\n",
       "      <td>NaN</td>\n",
       "      <td>NaN</td>\n",
       "      <td>NaN</td>\n",
       "      <td>2.859211</td>\n",
       "    </tr>\n",
       "    <tr>\n",
       "      <th>15</th>\n",
       "      <td>14.144428</td>\n",
       "      <td>NaN</td>\n",
       "      <td>NaN</td>\n",
       "      <td>NaN</td>\n",
       "      <td>35.249354</td>\n",
       "    </tr>\n",
       "  </tbody>\n",
       "</table>\n",
       "</div>"
      ],
      "text/plain": [
       "           D1   D2   D3   D4         D5\n",
       "0    4.688247  NaN  NaN  NaN   3.872859\n",
       "1    5.136367  NaN  NaN  NaN   4.163996\n",
       "2    3.631376  NaN  NaN  NaN   4.542393\n",
       "3    5.747066  NaN  NaN  NaN   3.565020\n",
       "4    5.214295  NaN  NaN  NaN   4.090198\n",
       "5    3.722109  NaN  NaN  NaN   2.414378\n",
       "6    5.329852  NaN  NaN  NaN   5.166025\n",
       "7    3.109063  NaN  NaN  NaN   3.714289\n",
       "8    3.480769  NaN  NaN  NaN   2.722161\n",
       "9    3.613419  NaN  NaN  NaN   2.815768\n",
       "10   3.285603  NaN  NaN  NaN   3.572109\n",
       "11   3.966047  NaN  NaN  NaN   4.103138\n",
       "12   3.200968  NaN  NaN  NaN   4.836650\n",
       "13   4.939778  NaN  NaN  NaN   2.399953\n",
       "14   3.116573  NaN  NaN  NaN   2.859211\n",
       "15  14.144428  NaN  NaN  NaN  35.249354"
      ]
     },
     "execution_count": 94,
     "metadata": {},
     "output_type": "execute_result"
    }
   ],
   "source": [
    "data_frame"
   ]
  },
  {
   "cell_type": "code",
   "execution_count": 29,
   "metadata": {},
   "outputs": [
    {
     "data": {
      "text/plain": [
       "12"
      ]
     },
     "execution_count": 29,
     "metadata": {},
     "output_type": "execute_result"
    }
   ],
   "source": [
    "len(mp_d2)"
   ]
  },
  {
   "cell_type": "code",
   "execution_count": 95,
   "metadata": {},
   "outputs": [
    {
     "name": "stderr",
     "output_type": "stream",
     "text": [
      "C:\\Users\\lenovo\\anaconda3\\lib\\site-packages\\ipykernel_launcher.py:2: SettingWithCopyWarning: \n",
      "A value is trying to be set on a copy of a slice from a DataFrame\n",
      "\n",
      "See the caveats in the documentation: https://pandas.pydata.org/pandas-docs/stable/user_guide/indexing.html#returning-a-view-versus-a-copy\n",
      "  \n",
      "C:\\Users\\lenovo\\anaconda3\\lib\\site-packages\\ipykernel_launcher.py:4: SettingWithCopyWarning: \n",
      "A value is trying to be set on a copy of a slice from a DataFrame\n",
      "\n",
      "See the caveats in the documentation: https://pandas.pydata.org/pandas-docs/stable/user_guide/indexing.html#returning-a-view-versus-a-copy\n",
      "  after removing the cwd from sys.path.\n",
      "C:\\Users\\lenovo\\anaconda3\\lib\\site-packages\\ipykernel_launcher.py:6: SettingWithCopyWarning: \n",
      "A value is trying to be set on a copy of a slice from a DataFrame\n",
      "\n",
      "See the caveats in the documentation: https://pandas.pydata.org/pandas-docs/stable/user_guide/indexing.html#returning-a-view-versus-a-copy\n",
      "  \n"
     ]
    }
   ],
   "source": [
    "for i in range(len(mp_d4)):\n",
    "    data_frame['D4'][i] = mp_d4[i]\n",
    "for i in range(len(mp_d2)):\n",
    "    data_frame['D2'][i] = mp_d2[i]\n",
    "for i in range(len(mp_d3)):\n",
    "    data_frame['D3'][i] = mp_d3[i]"
   ]
  },
  {
   "cell_type": "code",
   "execution_count": 97,
   "metadata": {},
   "outputs": [
    {
     "ename": "TypeError",
     "evalue": "'DataFrame' object is not callable",
     "output_type": "error",
     "traceback": [
      "\u001b[1;31m---------------------------------------------------------------------------\u001b[0m",
      "\u001b[1;31mTypeError\u001b[0m                                 Traceback (most recent call last)",
      "\u001b[1;32m<ipython-input-97-2cdd9c95318c>\u001b[0m in \u001b[0;36m<module>\u001b[1;34m\u001b[0m\n\u001b[0;32m      2\u001b[0m \u001b[0mdf1\u001b[0m \u001b[1;33m=\u001b[0m \u001b[0mpd\u001b[0m\u001b[1;33m.\u001b[0m\u001b[0mDataFrame\u001b[0m\u001b[1;33m(\u001b[0m\u001b[0mdf\u001b[0m\u001b[1;33m,\u001b[0m \u001b[0mcolumns\u001b[0m \u001b[1;33m=\u001b[0m \u001b[0mD1\u001b[0m\u001b[1;33m.\u001b[0m\u001b[0mEXCHANGE\u001b[0m\u001b[1;33m.\u001b[0m\u001b[0munique\u001b[0m\u001b[1;33m(\u001b[0m\u001b[1;33m)\u001b[0m\u001b[1;33m)\u001b[0m\u001b[1;33m\u001b[0m\u001b[1;33m\u001b[0m\u001b[0m\n\u001b[0;32m      3\u001b[0m \u001b[0mdf1\u001b[0m\u001b[1;33m.\u001b[0m\u001b[0mappend\u001b[0m\u001b[1;33m(\u001b[0m\u001b[0mdf\u001b[0m\u001b[1;33m)\u001b[0m\u001b[1;33m\u001b[0m\u001b[1;33m\u001b[0m\u001b[0m\n\u001b[1;32m----> 4\u001b[1;33m \u001b[0mdf\u001b[0m \u001b[1;33m=\u001b[0m \u001b[0mdf\u001b[0m\u001b[1;33m(\u001b[0m\u001b[0mcolumns\u001b[0m \u001b[1;33m=\u001b[0m \u001b[0mD1\u001b[0m\u001b[1;33m.\u001b[0m\u001b[0mEXCHANGE\u001b[0m\u001b[1;33m.\u001b[0m\u001b[0munique\u001b[0m\u001b[1;33m(\u001b[0m\u001b[1;33m)\u001b[0m\u001b[1;33m)\u001b[0m\u001b[1;33m\u001b[0m\u001b[1;33m\u001b[0m\u001b[0m\n\u001b[0m",
      "\u001b[1;31mTypeError\u001b[0m: 'DataFrame' object is not callable"
     ]
    }
   ],
   "source": [
    "df = data_frame.T\n",
    "df1 = pd.DataFrame(df, columns = D1.EXCHANGE.unique())\n",
    "df1.append(df)\n",
    "df = df(columns = D1.EXCHANGE.unique())"
   ]
  },
  {
   "cell_type": "code",
   "execution_count": 43,
   "metadata": {},
   "outputs": [],
   "source": [
    "#data_frame.insert(0, 'Exchange',D1.EXCHANGE.unique() )\n",
    "df = df"
   ]
  },
  {
   "cell_type": "code",
   "execution_count": 105,
   "metadata": {},
   "outputs": [
    {
     "data": {
      "text/plain": [
       "16"
      ]
     },
     "execution_count": 105,
     "metadata": {},
     "output_type": "execute_result"
    }
   ],
   "source": [
    "data_frame.set_index(keys = D1.EXCHANGE.unique(),drop=False, append=True, inplace=True, verify_integrity=True)\n",
    "len(data_frame)"
   ]
  },
  {
   "cell_type": "code",
   "execution_count": 90,
   "metadata": {},
   "outputs": [
    {
     "data": {
      "text/html": [
       "<div>\n",
       "<style scoped>\n",
       "    .dataframe tbody tr th:only-of-type {\n",
       "        vertical-align: middle;\n",
       "    }\n",
       "\n",
       "    .dataframe tbody tr th {\n",
       "        vertical-align: top;\n",
       "    }\n",
       "\n",
       "    .dataframe thead tr th {\n",
       "        text-align: left;\n",
       "    }\n",
       "</style>\n",
       "<table border=\"1\" class=\"dataframe\">\n",
       "  <thead>\n",
       "    <tr>\n",
       "      <th></th>\n",
       "      <th>0</th>\n",
       "      <th>1</th>\n",
       "      <th>2</th>\n",
       "      <th>3</th>\n",
       "      <th>4</th>\n",
       "      <th>5</th>\n",
       "      <th>6</th>\n",
       "      <th>7</th>\n",
       "      <th>8</th>\n",
       "      <th>9</th>\n",
       "      <th>10</th>\n",
       "      <th>11</th>\n",
       "      <th>12</th>\n",
       "      <th>13</th>\n",
       "      <th>14</th>\n",
       "      <th>15</th>\n",
       "    </tr>\n",
       "    <tr>\n",
       "      <th></th>\n",
       "      <th>Z</th>\n",
       "      <th>K</th>\n",
       "      <th>U</th>\n",
       "      <th>J</th>\n",
       "      <th>Y</th>\n",
       "      <th>X</th>\n",
       "      <th>B</th>\n",
       "      <th>C</th>\n",
       "      <th>N</th>\n",
       "      <th>D</th>\n",
       "      <th>P</th>\n",
       "      <th>V</th>\n",
       "      <th>H</th>\n",
       "      <th>T</th>\n",
       "      <th>A</th>\n",
       "      <th>M</th>\n",
       "    </tr>\n",
       "  </thead>\n",
       "  <tbody>\n",
       "    <tr>\n",
       "      <th>D1</th>\n",
       "      <td>4.68825</td>\n",
       "      <td>5.13637</td>\n",
       "      <td>3.63138</td>\n",
       "      <td>5.74707</td>\n",
       "      <td>5.21429</td>\n",
       "      <td>3.72211</td>\n",
       "      <td>5.32985</td>\n",
       "      <td>3.10906</td>\n",
       "      <td>3.48077</td>\n",
       "      <td>3.61342</td>\n",
       "      <td>3.2856</td>\n",
       "      <td>3.96605</td>\n",
       "      <td>3.20097</td>\n",
       "      <td>4.93978</td>\n",
       "      <td>3.11657</td>\n",
       "      <td>14.1444</td>\n",
       "    </tr>\n",
       "    <tr>\n",
       "      <th>D2</th>\n",
       "      <td>1.45207</td>\n",
       "      <td>1.48342</td>\n",
       "      <td>0.967675</td>\n",
       "      <td>1.73709</td>\n",
       "      <td>1.27056</td>\n",
       "      <td>0.710852</td>\n",
       "      <td>1.68662</td>\n",
       "      <td>1.59108</td>\n",
       "      <td>1.20966</td>\n",
       "      <td>1.8184</td>\n",
       "      <td>0.126584</td>\n",
       "      <td>1.89387</td>\n",
       "      <td>NaN</td>\n",
       "      <td>NaN</td>\n",
       "      <td>NaN</td>\n",
       "      <td>NaN</td>\n",
       "    </tr>\n",
       "    <tr>\n",
       "      <th>D3</th>\n",
       "      <td>1.37878</td>\n",
       "      <td>1.40673</td>\n",
       "      <td>1.81073</td>\n",
       "      <td>1.86037</td>\n",
       "      <td>1.28148</td>\n",
       "      <td>1.58227</td>\n",
       "      <td>1.71203</td>\n",
       "      <td>0.157569</td>\n",
       "      <td>1.29216</td>\n",
       "      <td>0.785559</td>\n",
       "      <td>0.79557</td>\n",
       "      <td>2.20213</td>\n",
       "      <td>NaN</td>\n",
       "      <td>NaN</td>\n",
       "      <td>NaN</td>\n",
       "      <td>NaN</td>\n",
       "    </tr>\n",
       "    <tr>\n",
       "      <th>D4</th>\n",
       "      <td>2.61519</td>\n",
       "      <td>2.81671</td>\n",
       "      <td>3.1237</td>\n",
       "      <td>3.26395</td>\n",
       "      <td>1.24943</td>\n",
       "      <td>4.60727</td>\n",
       "      <td>4.12879</td>\n",
       "      <td>1.29367</td>\n",
       "      <td>2.11678</td>\n",
       "      <td>2.40072</td>\n",
       "      <td>1.3026</td>\n",
       "      <td>6.61531</td>\n",
       "      <td>2.78938</td>\n",
       "      <td>4.35805</td>\n",
       "      <td>NaN</td>\n",
       "      <td>NaN</td>\n",
       "    </tr>\n",
       "    <tr>\n",
       "      <th>D5</th>\n",
       "      <td>3.87286</td>\n",
       "      <td>4.164</td>\n",
       "      <td>4.54239</td>\n",
       "      <td>3.56502</td>\n",
       "      <td>4.0902</td>\n",
       "      <td>2.41438</td>\n",
       "      <td>5.16602</td>\n",
       "      <td>3.71429</td>\n",
       "      <td>2.72216</td>\n",
       "      <td>2.81577</td>\n",
       "      <td>3.57211</td>\n",
       "      <td>4.10314</td>\n",
       "      <td>4.83665</td>\n",
       "      <td>2.39995</td>\n",
       "      <td>2.85921</td>\n",
       "      <td>35.2494</td>\n",
       "    </tr>\n",
       "  </tbody>\n",
       "</table>\n",
       "</div>"
      ],
      "text/plain": [
       "         0        1         2        3        4         5        6         7   \\\n",
       "          Z        K         U        J        Y         X        B         C   \n",
       "D1  4.68825  5.13637   3.63138  5.74707  5.21429   3.72211  5.32985   3.10906   \n",
       "D2  1.45207  1.48342  0.967675  1.73709  1.27056  0.710852  1.68662   1.59108   \n",
       "D3  1.37878  1.40673   1.81073  1.86037  1.28148   1.58227  1.71203  0.157569   \n",
       "D4  2.61519  2.81671    3.1237  3.26395  1.24943   4.60727  4.12879   1.29367   \n",
       "D5  3.87286    4.164   4.54239  3.56502   4.0902   2.41438  5.16602   3.71429   \n",
       "\n",
       "         8         9         10       11       12       13       14       15  \n",
       "          N         D         P        V        H        T        A        M  \n",
       "D1  3.48077   3.61342    3.2856  3.96605  3.20097  4.93978  3.11657  14.1444  \n",
       "D2  1.20966    1.8184  0.126584  1.89387      NaN      NaN      NaN      NaN  \n",
       "D3  1.29216  0.785559   0.79557  2.20213      NaN      NaN      NaN      NaN  \n",
       "D4  2.11678   2.40072    1.3026  6.61531  2.78938  4.35805      NaN      NaN  \n",
       "D5  2.72216   2.81577   3.57211  4.10314  4.83665  2.39995  2.85921  35.2494  "
      ]
     },
     "execution_count": 90,
     "metadata": {},
     "output_type": "execute_result"
    }
   ],
   "source": [
    "df = data_frame.T\n",
    "df"
   ]
  },
  {
   "cell_type": "code",
   "execution_count": null,
   "metadata": {},
   "outputs": [],
   "source": []
  },
  {
   "cell_type": "code",
   "execution_count": 102,
   "metadata": {},
   "outputs": [
    {
     "data": {
      "text/plain": [
       "D1    4.68825\n",
       "D2    1.45207\n",
       "D3    1.37878\n",
       "D4    2.61519\n",
       "D5    3.87286\n",
       "Name: 0, dtype: object"
      ]
     },
     "execution_count": 102,
     "metadata": {},
     "output_type": "execute_result"
    }
   ],
   "source": [
    "data_frame.iloc[0]"
   ]
  },
  {
   "cell_type": "code",
   "execution_count": 149,
   "metadata": {},
   "outputs": [],
   "source": [
    "X = ['D1','D2','D3','D4','D5']"
   ]
  },
  {
   "cell_type": "code",
   "execution_count": 150,
   "metadata": {},
   "outputs": [
    {
     "data": {
      "image/png": "[encoded data removed]",
      "text/plain": [
       "<Figure size 432x288 with 1 Axes>"
      ]
     },
     "metadata": {
      "needs_background": "light"
     },
     "output_type": "display_data"
    }
   ],
   "source": [
    "for i in range(len(data_frame)):\n",
    "    plt.plot(X,data_frame.iloc[i])\n",
    "    plt.scatter(X,data_frame.iloc[i])"
   ]
  },
  {
   "cell_type": "code",
   "execution_count": 108,
   "metadata": {},
   "outputs": [],
   "source": [
    "max_per_exchange = df.max()"
   ]
  },
  {
   "cell_type": "code",
   "execution_count": 111,
   "metadata": {},
   "outputs": [
    {
     "data": {
      "text/plain": [
       "<matplotlib.collections.PathCollection at 0x149b3bdad48>"
      ]
     },
     "execution_count": 111,
     "metadata": {},
     "output_type": "execute_result"
    },
    {
     "data": {
      "image/png": "[encoded data removed]",
      "text/plain": [
       "<Figure size 432x288 with 1 Axes>"
      ]
     },
     "metadata": {
      "needs_background": "light"
     },
     "output_type": "display_data"
    }
   ],
   "source": [
    "plt.scatter(D1.EXCHANGE.unique(),max_per_exchange)"
   ]
  },
  {
   "cell_type": "code",
   "execution_count": 117,
   "metadata": {},
   "outputs": [
    {
     "data": {
      "text/plain": [
       "[<matplotlib.lines.Line2D at 0x149b3a28e48>]"
      ]
     },
     "execution_count": 117,
     "metadata": {},
     "output_type": "execute_result"
    },
    {
     "data": {
      "image/png": "[encoded data removed]",
      "text/plain": [
       "<Figure size 432x288 with 1 Axes>"
      ]
     },
     "metadata": {
      "needs_background": "light"
     },
     "output_type": "display_data"
    }
   ],
   "source": [
    "plt.plot(df.max(axis=1),'.')"
   ]
  },
  {
   "cell_type": "code",
   "execution_count": 119,
   "metadata": {},
   "outputs": [],
   "source": [
    "df1 = df.reindex(['D2','D3','D4','D1','D5'])"
   ]
  },
  {
   "cell_type": "code",
   "execution_count": 122,
   "metadata": {},
   "outputs": [
    {
     "data": {
      "text/html": [
       "<div>\n",
       "<style scoped>\n",
       "    .dataframe tbody tr th:only-of-type {\n",
       "        vertical-align: middle;\n",
       "    }\n",
       "\n",
       "    .dataframe tbody tr th {\n",
       "        vertical-align: top;\n",
       "    }\n",
       "\n",
       "    .dataframe thead th {\n",
       "        text-align: right;\n",
       "    }\n",
       "</style>\n",
       "<table border=\"1\" class=\"dataframe\">\n",
       "  <thead>\n",
       "    <tr style=\"text-align: right;\">\n",
       "      <th></th>\n",
       "      <th>0</th>\n",
       "      <th>1</th>\n",
       "      <th>2</th>\n",
       "      <th>3</th>\n",
       "      <th>4</th>\n",
       "      <th>5</th>\n",
       "      <th>6</th>\n",
       "      <th>7</th>\n",
       "      <th>8</th>\n",
       "      <th>9</th>\n",
       "      <th>10</th>\n",
       "      <th>11</th>\n",
       "      <th>12</th>\n",
       "      <th>13</th>\n",
       "      <th>14</th>\n",
       "      <th>15</th>\n",
       "    </tr>\n",
       "  </thead>\n",
       "  <tbody>\n",
       "    <tr>\n",
       "      <th>D2</th>\n",
       "      <td>1.45207</td>\n",
       "      <td>1.48342</td>\n",
       "      <td>0.967675</td>\n",
       "      <td>1.73709</td>\n",
       "      <td>1.27056</td>\n",
       "      <td>0.710852</td>\n",
       "      <td>1.68662</td>\n",
       "      <td>1.59108</td>\n",
       "      <td>1.20966</td>\n",
       "      <td>1.8184</td>\n",
       "      <td>0.126584</td>\n",
       "      <td>1.89387</td>\n",
       "      <td>NaN</td>\n",
       "      <td>NaN</td>\n",
       "      <td>NaN</td>\n",
       "      <td>NaN</td>\n",
       "    </tr>\n",
       "    <tr>\n",
       "      <th>D3</th>\n",
       "      <td>1.37878</td>\n",
       "      <td>1.40673</td>\n",
       "      <td>1.81073</td>\n",
       "      <td>1.86037</td>\n",
       "      <td>1.28148</td>\n",
       "      <td>1.58227</td>\n",
       "      <td>1.71203</td>\n",
       "      <td>0.157569</td>\n",
       "      <td>1.29216</td>\n",
       "      <td>0.785559</td>\n",
       "      <td>0.79557</td>\n",
       "      <td>2.20213</td>\n",
       "      <td>NaN</td>\n",
       "      <td>NaN</td>\n",
       "      <td>NaN</td>\n",
       "      <td>NaN</td>\n",
       "    </tr>\n",
       "    <tr>\n",
       "      <th>D4</th>\n",
       "      <td>2.61519</td>\n",
       "      <td>2.81671</td>\n",
       "      <td>3.1237</td>\n",
       "      <td>3.26395</td>\n",
       "      <td>1.24943</td>\n",
       "      <td>4.60727</td>\n",
       "      <td>4.12879</td>\n",
       "      <td>1.29367</td>\n",
       "      <td>2.11678</td>\n",
       "      <td>2.40072</td>\n",
       "      <td>1.3026</td>\n",
       "      <td>6.61531</td>\n",
       "      <td>2.78938</td>\n",
       "      <td>4.35805</td>\n",
       "      <td>NaN</td>\n",
       "      <td>NaN</td>\n",
       "    </tr>\n",
       "    <tr>\n",
       "      <th>D1</th>\n",
       "      <td>4.68825</td>\n",
       "      <td>5.13637</td>\n",
       "      <td>3.63138</td>\n",
       "      <td>5.74707</td>\n",
       "      <td>5.21429</td>\n",
       "      <td>3.72211</td>\n",
       "      <td>5.32985</td>\n",
       "      <td>3.10906</td>\n",
       "      <td>3.48077</td>\n",
       "      <td>3.61342</td>\n",
       "      <td>3.2856</td>\n",
       "      <td>3.96605</td>\n",
       "      <td>3.20097</td>\n",
       "      <td>4.93978</td>\n",
       "      <td>3.11657</td>\n",
       "      <td>14.1444</td>\n",
       "    </tr>\n",
       "    <tr>\n",
       "      <th>D5</th>\n",
       "      <td>3.87286</td>\n",
       "      <td>4.164</td>\n",
       "      <td>4.54239</td>\n",
       "      <td>3.56502</td>\n",
       "      <td>4.0902</td>\n",
       "      <td>2.41438</td>\n",
       "      <td>5.16602</td>\n",
       "      <td>3.71429</td>\n",
       "      <td>2.72216</td>\n",
       "      <td>2.81577</td>\n",
       "      <td>3.57211</td>\n",
       "      <td>4.10314</td>\n",
       "      <td>4.83665</td>\n",
       "      <td>2.39995</td>\n",
       "      <td>2.85921</td>\n",
       "      <td>35.2494</td>\n",
       "    </tr>\n",
       "  </tbody>\n",
       "</table>\n",
       "</div>"
      ],
      "text/plain": [
       "         0        1         2        3        4         5        6         7   \\\n",
       "D2  1.45207  1.48342  0.967675  1.73709  1.27056  0.710852  1.68662   1.59108   \n",
       "D3  1.37878  1.40673   1.81073  1.86037  1.28148   1.58227  1.71203  0.157569   \n",
       "D4  2.61519  2.81671    3.1237  3.26395  1.24943   4.60727  4.12879   1.29367   \n",
       "D1  4.68825  5.13637   3.63138  5.74707  5.21429   3.72211  5.32985   3.10906   \n",
       "D5  3.87286    4.164   4.54239  3.56502   4.0902   2.41438  5.16602   3.71429   \n",
       "\n",
       "         8         9         10       11       12       13       14       15  \n",
       "D2  1.20966    1.8184  0.126584  1.89387      NaN      NaN      NaN      NaN  \n",
       "D3  1.29216  0.785559   0.79557  2.20213      NaN      NaN      NaN      NaN  \n",
       "D4  2.11678   2.40072    1.3026  6.61531  2.78938  4.35805      NaN      NaN  \n",
       "D1  3.48077   3.61342    3.2856  3.96605  3.20097  4.93978  3.11657  14.1444  \n",
       "D5  2.72216   2.81577   3.57211  4.10314  4.83665  2.39995  2.85921  35.2494  "
      ]
     },
     "execution_count": 122,
     "metadata": {},
     "output_type": "execute_result"
    }
   ],
   "source": [
    "df1"
   ]
  },
  {
   "cell_type": "code",
   "execution_count": 126,
   "metadata": {},
   "outputs": [
    {
     "data": {
      "text/plain": [
       "[<matplotlib.lines.Line2D at 0x149b39b6348>]"
      ]
     },
     "execution_count": 126,
     "metadata": {},
     "output_type": "execute_result"
    },
    {
     "data": {
      "image/png": "[encoded data removed]",
      "text/plain": [
       "<Figure size 432x288 with 1 Axes>"
      ]
     },
     "metadata": {
      "needs_background": "light"
     },
     "output_type": "display_data"
    }
   ],
   "source": [
    "plt.plot(df1.max(axis=1),'.')\n",
    "plt.plot(df1.max(axis=1))"
   ]
  },
  {
   "cell_type": "code",
   "execution_count": 124,
   "metadata": {},
   "outputs": [],
   "source": [
    "max_per_exchange_new = df1.max()"
   ]
  },
  {
   "cell_type": "code",
   "execution_count": 125,
   "metadata": {},
   "outputs": [
    {
     "data": {
      "text/plain": [
       "<matplotlib.collections.PathCollection at 0x149b39d2248>"
      ]
     },
     "execution_count": 125,
     "metadata": {},
     "output_type": "execute_result"
    },
    {
     "data": {
      "image/png": "[encoded data removed]",
      "text/plain": [
       "<Figure size 432x288 with 1 Axes>"
      ]
     },
     "metadata": {
      "needs_background": "light"
     },
     "output_type": "display_data"
    }
   ],
   "source": [
    "plt.scatter(D1.EXCHANGE.unique(),max_per_exchange_new)"
   ]
  },
  {
   "cell_type": "code",
   "execution_count": 128,
   "metadata": {},
   "outputs": [
    {
     "data": {
      "text/plain": [
       "[<matplotlib.lines.Line2D at 0x149b39eb108>]"
      ]
     },
     "execution_count": 128,
     "metadata": {},
     "output_type": "execute_result"
    },
    {
     "data": {
      "image/png": "[encoded data removed]",
      "text/plain": [
       "<Figure size 432x288 with 1 Axes>"
      ]
     },
     "metadata": {
      "needs_background": "light"
     },
     "output_type": "display_data"
    }
   ],
   "source": [
    "plt.plot(df1.min(axis=1),'.')\n",
    "plt.plot(df1.min(axis=1))"
   ]
  },
  {
   "cell_type": "code",
   "execution_count": 129,
   "metadata": {},
   "outputs": [],
   "source": [
    "df2 = df1.iloc[: , :-1]"
   ]
  },
  {
   "cell_type": "code",
   "execution_count": 130,
   "metadata": {},
   "outputs": [
    {
     "data": {
      "text/html": [
       "<div>\n",
       "<style scoped>\n",
       "    .dataframe tbody tr th:only-of-type {\n",
       "        vertical-align: middle;\n",
       "    }\n",
       "\n",
       "    .dataframe tbody tr th {\n",
       "        vertical-align: top;\n",
       "    }\n",
       "\n",
       "    .dataframe thead th {\n",
       "        text-align: right;\n",
       "    }\n",
       "</style>\n",
       "<table border=\"1\" class=\"dataframe\">\n",
       "  <thead>\n",
       "    <tr style=\"text-align: right;\">\n",
       "      <th></th>\n",
       "      <th>0</th>\n",
       "      <th>1</th>\n",
       "      <th>2</th>\n",
       "      <th>3</th>\n",
       "      <th>4</th>\n",
       "      <th>5</th>\n",
       "      <th>6</th>\n",
       "      <th>7</th>\n",
       "      <th>8</th>\n",
       "      <th>9</th>\n",
       "      <th>10</th>\n",
       "      <th>11</th>\n",
       "      <th>12</th>\n",
       "      <th>13</th>\n",
       "      <th>14</th>\n",
       "    </tr>\n",
       "  </thead>\n",
       "  <tbody>\n",
       "    <tr>\n",
       "      <th>D2</th>\n",
       "      <td>1.45207</td>\n",
       "      <td>1.48342</td>\n",
       "      <td>0.967675</td>\n",
       "      <td>1.73709</td>\n",
       "      <td>1.27056</td>\n",
       "      <td>0.710852</td>\n",
       "      <td>1.68662</td>\n",
       "      <td>1.59108</td>\n",
       "      <td>1.20966</td>\n",
       "      <td>1.8184</td>\n",
       "      <td>0.126584</td>\n",
       "      <td>1.89387</td>\n",
       "      <td>NaN</td>\n",
       "      <td>NaN</td>\n",
       "      <td>NaN</td>\n",
       "    </tr>\n",
       "    <tr>\n",
       "      <th>D3</th>\n",
       "      <td>1.37878</td>\n",
       "      <td>1.40673</td>\n",
       "      <td>1.81073</td>\n",
       "      <td>1.86037</td>\n",
       "      <td>1.28148</td>\n",
       "      <td>1.58227</td>\n",
       "      <td>1.71203</td>\n",
       "      <td>0.157569</td>\n",
       "      <td>1.29216</td>\n",
       "      <td>0.785559</td>\n",
       "      <td>0.79557</td>\n",
       "      <td>2.20213</td>\n",
       "      <td>NaN</td>\n",
       "      <td>NaN</td>\n",
       "      <td>NaN</td>\n",
       "    </tr>\n",
       "    <tr>\n",
       "      <th>D4</th>\n",
       "      <td>2.61519</td>\n",
       "      <td>2.81671</td>\n",
       "      <td>3.1237</td>\n",
       "      <td>3.26395</td>\n",
       "      <td>1.24943</td>\n",
       "      <td>4.60727</td>\n",
       "      <td>4.12879</td>\n",
       "      <td>1.29367</td>\n",
       "      <td>2.11678</td>\n",
       "      <td>2.40072</td>\n",
       "      <td>1.3026</td>\n",
       "      <td>6.61531</td>\n",
       "      <td>2.78938</td>\n",
       "      <td>4.35805</td>\n",
       "      <td>NaN</td>\n",
       "    </tr>\n",
       "    <tr>\n",
       "      <th>D1</th>\n",
       "      <td>4.68825</td>\n",
       "      <td>5.13637</td>\n",
       "      <td>3.63138</td>\n",
       "      <td>5.74707</td>\n",
       "      <td>5.21429</td>\n",
       "      <td>3.72211</td>\n",
       "      <td>5.32985</td>\n",
       "      <td>3.10906</td>\n",
       "      <td>3.48077</td>\n",
       "      <td>3.61342</td>\n",
       "      <td>3.2856</td>\n",
       "      <td>3.96605</td>\n",
       "      <td>3.20097</td>\n",
       "      <td>4.93978</td>\n",
       "      <td>3.11657</td>\n",
       "    </tr>\n",
       "    <tr>\n",
       "      <th>D5</th>\n",
       "      <td>3.87286</td>\n",
       "      <td>4.164</td>\n",
       "      <td>4.54239</td>\n",
       "      <td>3.56502</td>\n",
       "      <td>4.0902</td>\n",
       "      <td>2.41438</td>\n",
       "      <td>5.16602</td>\n",
       "      <td>3.71429</td>\n",
       "      <td>2.72216</td>\n",
       "      <td>2.81577</td>\n",
       "      <td>3.57211</td>\n",
       "      <td>4.10314</td>\n",
       "      <td>4.83665</td>\n",
       "      <td>2.39995</td>\n",
       "      <td>2.85921</td>\n",
       "    </tr>\n",
       "  </tbody>\n",
       "</table>\n",
       "</div>"
      ],
      "text/plain": [
       "         0        1         2        3        4         5        6         7   \\\n",
       "D2  1.45207  1.48342  0.967675  1.73709  1.27056  0.710852  1.68662   1.59108   \n",
       "D3  1.37878  1.40673   1.81073  1.86037  1.28148   1.58227  1.71203  0.157569   \n",
       "D4  2.61519  2.81671    3.1237  3.26395  1.24943   4.60727  4.12879   1.29367   \n",
       "D1  4.68825  5.13637   3.63138  5.74707  5.21429   3.72211  5.32985   3.10906   \n",
       "D5  3.87286    4.164   4.54239  3.56502   4.0902   2.41438  5.16602   3.71429   \n",
       "\n",
       "         8         9         10       11       12       13       14  \n",
       "D2  1.20966    1.8184  0.126584  1.89387      NaN      NaN      NaN  \n",
       "D3  1.29216  0.785559   0.79557  2.20213      NaN      NaN      NaN  \n",
       "D4  2.11678   2.40072    1.3026  6.61531  2.78938  4.35805      NaN  \n",
       "D1  3.48077   3.61342    3.2856  3.96605  3.20097  4.93978  3.11657  \n",
       "D5  2.72216   2.81577   3.57211  4.10314  4.83665  2.39995  2.85921  "
      ]
     },
     "execution_count": 130,
     "metadata": {},
     "output_type": "execute_result"
    }
   ],
   "source": [
    "df2"
   ]
  },
  {
   "cell_type": "code",
   "execution_count": 131,
   "metadata": {},
   "outputs": [
    {
     "data": {
      "text/plain": [
       "[<matplotlib.lines.Line2D at 0x149b398a288>]"
      ]
     },
     "execution_count": 131,
     "metadata": {},
     "output_type": "execute_result"
    },
    {
     "data": {
      "image/png": "[encoded data removed]",
      "text/plain": [
       "<Figure size 432x288 with 1 Axes>"
      ]
     },
     "metadata": {
      "needs_background": "light"
     },
     "output_type": "display_data"
    }
   ],
   "source": [
    "plt.plot(df2.max(axis=1),'.')\n",
    "plt.plot(df2.max(axis=1))"
   ]
  },
  {
   "cell_type": "code",
   "execution_count": 132,
   "metadata": {},
   "outputs": [
    {
     "data": {
      "text/plain": [
       "[<matplotlib.lines.Line2D at 0x149b3999a88>]"
      ]
     },
     "execution_count": 132,
     "metadata": {},
     "output_type": "execute_result"
    },
    {
     "data": {
      "image/png": "[encoded data removed]",
      "text/plain": [
       "<Figure size 432x288 with 1 Axes>"
      ]
     },
     "metadata": {
      "needs_background": "light"
     },
     "output_type": "display_data"
    }
   ],
   "source": [
    "plt.plot(df1.min(axis=1),'.')\n",
    "plt.plot(df1.min(axis=1))"
   ]
  },
  {
   "cell_type": "code",
   "execution_count": 148,
   "metadata": {},
   "outputs": [
    {
     "data": {
      "text/plain": [
       "[<matplotlib.lines.Line2D at 0x149b364e448>]"
      ]
     },
     "execution_count": 148,
     "metadata": {},
     "output_type": "execute_result"
    },
    {
     "data": {
      "image/png": "[encoded data removed]",
      "text/plain": [
       "<Figure size 432x288 with 1 Axes>"
      ]
     },
     "metadata": {
      "needs_background": "light"
     },
     "output_type": "display_data"
    }
   ],
   "source": [
    "plt.plot(df2.max(axis=1),'.')\n",
    "plt.plot(df2.max(axis=1))\n",
    "plt.plot(df1.min(axis=1),'.')\n",
    "plt.plot(df1.min(axis=1))"
   ]
  },
  {
   "cell_type": "code",
   "execution_count": 146,
   "metadata": {},
   "outputs": [
    {
     "data": {
      "text/plain": [
       "(0, array([14.]))"
      ]
     },
     "execution_count": 146,
     "metadata": {},
     "output_type": "execute_result"
    },
    {
     "data": {
      "image/png": "[encoded data removed]",
      "text/plain": [
       "<Figure size 432x288 with 1 Axes>"
      ]
     },
     "metadata": {
      "needs_background": "light"
     },
     "output_type": "display_data"
    }
   ],
   "source": [
    "min_per_exchange = df1.min()\n",
    "max_per_exchange = df1.max()\n",
    "plt.scatter(D1.EXCHANGE.unique(),max_per_exchange)\n",
    "plt.scatter(D1.EXCHANGE.unique(),min_per_exchange)\n",
    "plt.xlim(0,'A')"
   ]
  },
  {
   "cell_type": "code",
   "execution_count": 158,
   "metadata": {},
   "outputs": [
    {
     "data": {
      "text/html": [
       "<div>\n",
       "<style scoped>\n",
       "    .dataframe tbody tr th:only-of-type {\n",
       "        vertical-align: middle;\n",
       "    }\n",
       "\n",
       "    .dataframe tbody tr th {\n",
       "        vertical-align: top;\n",
       "    }\n",
       "\n",
       "    .dataframe thead th {\n",
       "        text-align: right;\n",
       "    }\n",
       "</style>\n",
       "<table border=\"1\" class=\"dataframe\">\n",
       "  <thead>\n",
       "    <tr style=\"text-align: right;\">\n",
       "      <th></th>\n",
       "      <th>D2</th>\n",
       "      <th>D3</th>\n",
       "      <th>D4</th>\n",
       "      <th>D1</th>\n",
       "      <th>D5</th>\n",
       "    </tr>\n",
       "  </thead>\n",
       "  <tbody>\n",
       "    <tr>\n",
       "      <th>0</th>\n",
       "      <td>NaN</td>\n",
       "      <td>NaN</td>\n",
       "      <td>NaN</td>\n",
       "      <td>NaN</td>\n",
       "      <td>NaN</td>\n",
       "    </tr>\n",
       "    <tr>\n",
       "      <th>1</th>\n",
       "      <td>NaN</td>\n",
       "      <td>NaN</td>\n",
       "      <td>NaN</td>\n",
       "      <td>NaN</td>\n",
       "      <td>NaN</td>\n",
       "    </tr>\n",
       "    <tr>\n",
       "      <th>2</th>\n",
       "      <td>NaN</td>\n",
       "      <td>NaN</td>\n",
       "      <td>NaN</td>\n",
       "      <td>NaN</td>\n",
       "      <td>NaN</td>\n",
       "    </tr>\n",
       "    <tr>\n",
       "      <th>3</th>\n",
       "      <td>NaN</td>\n",
       "      <td>NaN</td>\n",
       "      <td>NaN</td>\n",
       "      <td>NaN</td>\n",
       "      <td>NaN</td>\n",
       "    </tr>\n",
       "    <tr>\n",
       "      <th>4</th>\n",
       "      <td>NaN</td>\n",
       "      <td>NaN</td>\n",
       "      <td>NaN</td>\n",
       "      <td>NaN</td>\n",
       "      <td>NaN</td>\n",
       "    </tr>\n",
       "    <tr>\n",
       "      <th>5</th>\n",
       "      <td>NaN</td>\n",
       "      <td>NaN</td>\n",
       "      <td>NaN</td>\n",
       "      <td>NaN</td>\n",
       "      <td>NaN</td>\n",
       "    </tr>\n",
       "    <tr>\n",
       "      <th>6</th>\n",
       "      <td>NaN</td>\n",
       "      <td>NaN</td>\n",
       "      <td>NaN</td>\n",
       "      <td>NaN</td>\n",
       "      <td>NaN</td>\n",
       "    </tr>\n",
       "    <tr>\n",
       "      <th>7</th>\n",
       "      <td>NaN</td>\n",
       "      <td>NaN</td>\n",
       "      <td>NaN</td>\n",
       "      <td>NaN</td>\n",
       "      <td>NaN</td>\n",
       "    </tr>\n",
       "    <tr>\n",
       "      <th>8</th>\n",
       "      <td>NaN</td>\n",
       "      <td>NaN</td>\n",
       "      <td>NaN</td>\n",
       "      <td>NaN</td>\n",
       "      <td>NaN</td>\n",
       "    </tr>\n",
       "    <tr>\n",
       "      <th>9</th>\n",
       "      <td>NaN</td>\n",
       "      <td>NaN</td>\n",
       "      <td>NaN</td>\n",
       "      <td>NaN</td>\n",
       "      <td>NaN</td>\n",
       "    </tr>\n",
       "    <tr>\n",
       "      <th>10</th>\n",
       "      <td>NaN</td>\n",
       "      <td>NaN</td>\n",
       "      <td>NaN</td>\n",
       "      <td>NaN</td>\n",
       "      <td>NaN</td>\n",
       "    </tr>\n",
       "    <tr>\n",
       "      <th>11</th>\n",
       "      <td>NaN</td>\n",
       "      <td>NaN</td>\n",
       "      <td>NaN</td>\n",
       "      <td>NaN</td>\n",
       "      <td>NaN</td>\n",
       "    </tr>\n",
       "    <tr>\n",
       "      <th>12</th>\n",
       "      <td>NaN</td>\n",
       "      <td>NaN</td>\n",
       "      <td>NaN</td>\n",
       "      <td>NaN</td>\n",
       "      <td>NaN</td>\n",
       "    </tr>\n",
       "    <tr>\n",
       "      <th>13</th>\n",
       "      <td>NaN</td>\n",
       "      <td>NaN</td>\n",
       "      <td>NaN</td>\n",
       "      <td>NaN</td>\n",
       "      <td>NaN</td>\n",
       "    </tr>\n",
       "    <tr>\n",
       "      <th>14</th>\n",
       "      <td>NaN</td>\n",
       "      <td>NaN</td>\n",
       "      <td>NaN</td>\n",
       "      <td>NaN</td>\n",
       "      <td>NaN</td>\n",
       "    </tr>\n",
       "    <tr>\n",
       "      <th>15</th>\n",
       "      <td>NaN</td>\n",
       "      <td>NaN</td>\n",
       "      <td>NaN</td>\n",
       "      <td>NaN</td>\n",
       "      <td>NaN</td>\n",
       "    </tr>\n",
       "  </tbody>\n",
       "</table>\n",
       "</div>"
      ],
      "text/plain": [
       "     D2   D3   D4   D1   D5\n",
       "0   NaN  NaN  NaN  NaN  NaN\n",
       "1   NaN  NaN  NaN  NaN  NaN\n",
       "2   NaN  NaN  NaN  NaN  NaN\n",
       "3   NaN  NaN  NaN  NaN  NaN\n",
       "4   NaN  NaN  NaN  NaN  NaN\n",
       "5   NaN  NaN  NaN  NaN  NaN\n",
       "6   NaN  NaN  NaN  NaN  NaN\n",
       "7   NaN  NaN  NaN  NaN  NaN\n",
       "8   NaN  NaN  NaN  NaN  NaN\n",
       "9   NaN  NaN  NaN  NaN  NaN\n",
       "10  NaN  NaN  NaN  NaN  NaN\n",
       "11  NaN  NaN  NaN  NaN  NaN\n",
       "12  NaN  NaN  NaN  NaN  NaN\n",
       "13  NaN  NaN  NaN  NaN  NaN\n",
       "14  NaN  NaN  NaN  NaN  NaN\n",
       "15  NaN  NaN  NaN  NaN  NaN"
      ]
     },
     "execution_count": 158,
     "metadata": {},
     "output_type": "execute_result"
    }
   ],
   "source": [
    "data_frame1 = pd.DataFrame(index = np.arange(len(mp_d1)), columns = ['D2','D3','D4','D1','D5'])\n",
    "data_frame1"
   ]
  },
  {
   "cell_type": "code",
   "execution_count": 156,
   "metadata": {},
   "outputs": [],
   "source": [
    "data_frame1['D2'] = mp_d2\n",
    "data_frame1['D3'] = mp_d3"
   ]
  },
  {
   "cell_type": "code",
   "execution_count": 162,
   "metadata": {},
   "outputs": [
    {
     "data": {
      "text/html": [
       "<div>\n",
       "<style scoped>\n",
       "    .dataframe tbody tr th:only-of-type {\n",
       "        vertical-align: middle;\n",
       "    }\n",
       "\n",
       "    .dataframe tbody tr th {\n",
       "        vertical-align: top;\n",
       "    }\n",
       "\n",
       "    .dataframe thead th {\n",
       "        text-align: right;\n",
       "    }\n",
       "</style>\n",
       "<table border=\"1\" class=\"dataframe\">\n",
       "  <thead>\n",
       "    <tr style=\"text-align: right;\">\n",
       "      <th></th>\n",
       "      <th>D2</th>\n",
       "      <th>D3</th>\n",
       "      <th>D4</th>\n",
       "      <th>D1</th>\n",
       "      <th>D5</th>\n",
       "    </tr>\n",
       "  </thead>\n",
       "  <tbody>\n",
       "    <tr>\n",
       "      <th>0</th>\n",
       "      <td>NaN</td>\n",
       "      <td>NaN</td>\n",
       "      <td>NaN</td>\n",
       "      <td>4.688247</td>\n",
       "      <td>3.872859</td>\n",
       "    </tr>\n",
       "    <tr>\n",
       "      <th>1</th>\n",
       "      <td>NaN</td>\n",
       "      <td>NaN</td>\n",
       "      <td>NaN</td>\n",
       "      <td>5.136367</td>\n",
       "      <td>4.163996</td>\n",
       "    </tr>\n",
       "    <tr>\n",
       "      <th>2</th>\n",
       "      <td>NaN</td>\n",
       "      <td>NaN</td>\n",
       "      <td>NaN</td>\n",
       "      <td>3.631376</td>\n",
       "      <td>4.542393</td>\n",
       "    </tr>\n",
       "    <tr>\n",
       "      <th>3</th>\n",
       "      <td>NaN</td>\n",
       "      <td>NaN</td>\n",
       "      <td>NaN</td>\n",
       "      <td>5.747066</td>\n",
       "      <td>3.565020</td>\n",
       "    </tr>\n",
       "    <tr>\n",
       "      <th>4</th>\n",
       "      <td>NaN</td>\n",
       "      <td>NaN</td>\n",
       "      <td>NaN</td>\n",
       "      <td>5.214295</td>\n",
       "      <td>4.090198</td>\n",
       "    </tr>\n",
       "    <tr>\n",
       "      <th>5</th>\n",
       "      <td>NaN</td>\n",
       "      <td>NaN</td>\n",
       "      <td>NaN</td>\n",
       "      <td>3.722109</td>\n",
       "      <td>2.414378</td>\n",
       "    </tr>\n",
       "    <tr>\n",
       "      <th>6</th>\n",
       "      <td>NaN</td>\n",
       "      <td>NaN</td>\n",
       "      <td>NaN</td>\n",
       "      <td>5.329852</td>\n",
       "      <td>5.166025</td>\n",
       "    </tr>\n",
       "    <tr>\n",
       "      <th>7</th>\n",
       "      <td>NaN</td>\n",
       "      <td>NaN</td>\n",
       "      <td>NaN</td>\n",
       "      <td>3.109063</td>\n",
       "      <td>3.714289</td>\n",
       "    </tr>\n",
       "    <tr>\n",
       "      <th>8</th>\n",
       "      <td>NaN</td>\n",
       "      <td>NaN</td>\n",
       "      <td>NaN</td>\n",
       "      <td>3.480769</td>\n",
       "      <td>2.722161</td>\n",
       "    </tr>\n",
       "    <tr>\n",
       "      <th>9</th>\n",
       "      <td>NaN</td>\n",
       "      <td>NaN</td>\n",
       "      <td>NaN</td>\n",
       "      <td>3.613419</td>\n",
       "      <td>2.815768</td>\n",
       "    </tr>\n",
       "    <tr>\n",
       "      <th>10</th>\n",
       "      <td>NaN</td>\n",
       "      <td>NaN</td>\n",
       "      <td>NaN</td>\n",
       "      <td>3.285603</td>\n",
       "      <td>3.572109</td>\n",
       "    </tr>\n",
       "    <tr>\n",
       "      <th>11</th>\n",
       "      <td>NaN</td>\n",
       "      <td>NaN</td>\n",
       "      <td>NaN</td>\n",
       "      <td>3.966047</td>\n",
       "      <td>4.103138</td>\n",
       "    </tr>\n",
       "    <tr>\n",
       "      <th>12</th>\n",
       "      <td>NaN</td>\n",
       "      <td>NaN</td>\n",
       "      <td>NaN</td>\n",
       "      <td>3.200968</td>\n",
       "      <td>4.836650</td>\n",
       "    </tr>\n",
       "    <tr>\n",
       "      <th>13</th>\n",
       "      <td>NaN</td>\n",
       "      <td>NaN</td>\n",
       "      <td>NaN</td>\n",
       "      <td>4.939778</td>\n",
       "      <td>2.399953</td>\n",
       "    </tr>\n",
       "    <tr>\n",
       "      <th>14</th>\n",
       "      <td>NaN</td>\n",
       "      <td>NaN</td>\n",
       "      <td>NaN</td>\n",
       "      <td>3.116573</td>\n",
       "      <td>2.859211</td>\n",
       "    </tr>\n",
       "    <tr>\n",
       "      <th>15</th>\n",
       "      <td>NaN</td>\n",
       "      <td>NaN</td>\n",
       "      <td>NaN</td>\n",
       "      <td>14.144428</td>\n",
       "      <td>35.249354</td>\n",
       "    </tr>\n",
       "  </tbody>\n",
       "</table>\n",
       "</div>"
      ],
      "text/plain": [
       "     D2   D3   D4         D1         D5\n",
       "0   NaN  NaN  NaN   4.688247   3.872859\n",
       "1   NaN  NaN  NaN   5.136367   4.163996\n",
       "2   NaN  NaN  NaN   3.631376   4.542393\n",
       "3   NaN  NaN  NaN   5.747066   3.565020\n",
       "4   NaN  NaN  NaN   5.214295   4.090198\n",
       "5   NaN  NaN  NaN   3.722109   2.414378\n",
       "6   NaN  NaN  NaN   5.329852   5.166025\n",
       "7   NaN  NaN  NaN   3.109063   3.714289\n",
       "8   NaN  NaN  NaN   3.480769   2.722161\n",
       "9   NaN  NaN  NaN   3.613419   2.815768\n",
       "10  NaN  NaN  NaN   3.285603   3.572109\n",
       "11  NaN  NaN  NaN   3.966047   4.103138\n",
       "12  NaN  NaN  NaN   3.200968   4.836650\n",
       "13  NaN  NaN  NaN   4.939778   2.399953\n",
       "14  NaN  NaN  NaN   3.116573   2.859211\n",
       "15  NaN  NaN  NaN  14.144428  35.249354"
      ]
     },
     "execution_count": 162,
     "metadata": {},
     "output_type": "execute_result"
    }
   ],
   "source": [
    "data_frame1['D1'] = mp_d1\n",
    "data_frame1['D5'] = mp_d5\n",
    "data_frame1"
   ]
  },
  {
   "cell_type": "code",
   "execution_count": 164,
   "metadata": {},
   "outputs": [
    {
     "name": "stderr",
     "output_type": "stream",
     "text": [
      "C:\\Users\\lenovo\\anaconda3\\lib\\site-packages\\ipykernel_launcher.py:2: SettingWithCopyWarning: \n",
      "A value is trying to be set on a copy of a slice from a DataFrame\n",
      "\n",
      "See the caveats in the documentation: https://pandas.pydata.org/pandas-docs/stable/user_guide/indexing.html#returning-a-view-versus-a-copy\n",
      "  \n",
      "C:\\Users\\lenovo\\anaconda3\\lib\\site-packages\\ipykernel_launcher.py:4: SettingWithCopyWarning: \n",
      "A value is trying to be set on a copy of a slice from a DataFrame\n",
      "\n",
      "See the caveats in the documentation: https://pandas.pydata.org/pandas-docs/stable/user_guide/indexing.html#returning-a-view-versus-a-copy\n",
      "  after removing the cwd from sys.path.\n",
      "C:\\Users\\lenovo\\anaconda3\\lib\\site-packages\\ipykernel_launcher.py:6: SettingWithCopyWarning: \n",
      "A value is trying to be set on a copy of a slice from a DataFrame\n",
      "\n",
      "See the caveats in the documentation: https://pandas.pydata.org/pandas-docs/stable/user_guide/indexing.html#returning-a-view-versus-a-copy\n",
      "  \n"
     ]
    }
   ],
   "source": [
    "for i in range(len(mp_d4)):\n",
    "    data_frame1['D4'][i] = mp_d4[i]\n",
    "for i in range(len(mp_d2)):\n",
    "    data_frame1['D2'][i] = mp_d2[i]\n",
    "for i in range(len(mp_d3)):\n",
    "    data_frame1['D3'][i] = mp_d3[i]"
   ]
  },
  {
   "cell_type": "code",
   "execution_count": 165,
   "metadata": {},
   "outputs": [
    {
     "data": {
      "text/html": [
       "<div>\n",
       "<style scoped>\n",
       "    .dataframe tbody tr th:only-of-type {\n",
       "        vertical-align: middle;\n",
       "    }\n",
       "\n",
       "    .dataframe tbody tr th {\n",
       "        vertical-align: top;\n",
       "    }\n",
       "\n",
       "    .dataframe thead th {\n",
       "        text-align: right;\n",
       "    }\n",
       "</style>\n",
       "<table border=\"1\" class=\"dataframe\">\n",
       "  <thead>\n",
       "    <tr style=\"text-align: right;\">\n",
       "      <th></th>\n",
       "      <th>D2</th>\n",
       "      <th>D3</th>\n",
       "      <th>D4</th>\n",
       "      <th>D1</th>\n",
       "      <th>D5</th>\n",
       "    </tr>\n",
       "  </thead>\n",
       "  <tbody>\n",
       "    <tr>\n",
       "      <th>0</th>\n",
       "      <td>1.45207</td>\n",
       "      <td>1.37878</td>\n",
       "      <td>2.61519</td>\n",
       "      <td>4.688247</td>\n",
       "      <td>3.872859</td>\n",
       "    </tr>\n",
       "    <tr>\n",
       "      <th>1</th>\n",
       "      <td>1.48342</td>\n",
       "      <td>1.40673</td>\n",
       "      <td>2.81671</td>\n",
       "      <td>5.136367</td>\n",
       "      <td>4.163996</td>\n",
       "    </tr>\n",
       "    <tr>\n",
       "      <th>2</th>\n",
       "      <td>0.967675</td>\n",
       "      <td>1.81073</td>\n",
       "      <td>3.1237</td>\n",
       "      <td>3.631376</td>\n",
       "      <td>4.542393</td>\n",
       "    </tr>\n",
       "    <tr>\n",
       "      <th>3</th>\n",
       "      <td>1.73709</td>\n",
       "      <td>1.86037</td>\n",
       "      <td>3.26395</td>\n",
       "      <td>5.747066</td>\n",
       "      <td>3.565020</td>\n",
       "    </tr>\n",
       "    <tr>\n",
       "      <th>4</th>\n",
       "      <td>1.27056</td>\n",
       "      <td>1.28148</td>\n",
       "      <td>1.24943</td>\n",
       "      <td>5.214295</td>\n",
       "      <td>4.090198</td>\n",
       "    </tr>\n",
       "    <tr>\n",
       "      <th>5</th>\n",
       "      <td>0.710852</td>\n",
       "      <td>1.58227</td>\n",
       "      <td>4.60727</td>\n",
       "      <td>3.722109</td>\n",
       "      <td>2.414378</td>\n",
       "    </tr>\n",
       "    <tr>\n",
       "      <th>6</th>\n",
       "      <td>1.68662</td>\n",
       "      <td>1.71203</td>\n",
       "      <td>4.12879</td>\n",
       "      <td>5.329852</td>\n",
       "      <td>5.166025</td>\n",
       "    </tr>\n",
       "    <tr>\n",
       "      <th>7</th>\n",
       "      <td>1.59108</td>\n",
       "      <td>0.157569</td>\n",
       "      <td>1.29367</td>\n",
       "      <td>3.109063</td>\n",
       "      <td>3.714289</td>\n",
       "    </tr>\n",
       "    <tr>\n",
       "      <th>8</th>\n",
       "      <td>1.20966</td>\n",
       "      <td>1.29216</td>\n",
       "      <td>2.11678</td>\n",
       "      <td>3.480769</td>\n",
       "      <td>2.722161</td>\n",
       "    </tr>\n",
       "    <tr>\n",
       "      <th>9</th>\n",
       "      <td>1.8184</td>\n",
       "      <td>0.785559</td>\n",
       "      <td>2.40072</td>\n",
       "      <td>3.613419</td>\n",
       "      <td>2.815768</td>\n",
       "    </tr>\n",
       "    <tr>\n",
       "      <th>10</th>\n",
       "      <td>0.126584</td>\n",
       "      <td>0.79557</td>\n",
       "      <td>1.3026</td>\n",
       "      <td>3.285603</td>\n",
       "      <td>3.572109</td>\n",
       "    </tr>\n",
       "    <tr>\n",
       "      <th>11</th>\n",
       "      <td>1.89387</td>\n",
       "      <td>2.20213</td>\n",
       "      <td>6.61531</td>\n",
       "      <td>3.966047</td>\n",
       "      <td>4.103138</td>\n",
       "    </tr>\n",
       "    <tr>\n",
       "      <th>12</th>\n",
       "      <td>NaN</td>\n",
       "      <td>NaN</td>\n",
       "      <td>2.78938</td>\n",
       "      <td>3.200968</td>\n",
       "      <td>4.836650</td>\n",
       "    </tr>\n",
       "    <tr>\n",
       "      <th>13</th>\n",
       "      <td>NaN</td>\n",
       "      <td>NaN</td>\n",
       "      <td>4.35805</td>\n",
       "      <td>4.939778</td>\n",
       "      <td>2.399953</td>\n",
       "    </tr>\n",
       "    <tr>\n",
       "      <th>14</th>\n",
       "      <td>NaN</td>\n",
       "      <td>NaN</td>\n",
       "      <td>NaN</td>\n",
       "      <td>3.116573</td>\n",
       "      <td>2.859211</td>\n",
       "    </tr>\n",
       "    <tr>\n",
       "      <th>15</th>\n",
       "      <td>NaN</td>\n",
       "      <td>NaN</td>\n",
       "      <td>NaN</td>\n",
       "      <td>14.144428</td>\n",
       "      <td>35.249354</td>\n",
       "    </tr>\n",
       "  </tbody>\n",
       "</table>\n",
       "</div>"
      ],
      "text/plain": [
       "          D2        D3       D4         D1         D5\n",
       "0    1.45207   1.37878  2.61519   4.688247   3.872859\n",
       "1    1.48342   1.40673  2.81671   5.136367   4.163996\n",
       "2   0.967675   1.81073   3.1237   3.631376   4.542393\n",
       "3    1.73709   1.86037  3.26395   5.747066   3.565020\n",
       "4    1.27056   1.28148  1.24943   5.214295   4.090198\n",
       "5   0.710852   1.58227  4.60727   3.722109   2.414378\n",
       "6    1.68662   1.71203  4.12879   5.329852   5.166025\n",
       "7    1.59108  0.157569  1.29367   3.109063   3.714289\n",
       "8    1.20966   1.29216  2.11678   3.480769   2.722161\n",
       "9     1.8184  0.785559  2.40072   3.613419   2.815768\n",
       "10  0.126584   0.79557   1.3026   3.285603   3.572109\n",
       "11   1.89387   2.20213  6.61531   3.966047   4.103138\n",
       "12       NaN       NaN  2.78938   3.200968   4.836650\n",
       "13       NaN       NaN  4.35805   4.939778   2.399953\n",
       "14       NaN       NaN      NaN   3.116573   2.859211\n",
       "15       NaN       NaN      NaN  14.144428  35.249354"
      ]
     },
     "execution_count": 165,
     "metadata": {},
     "output_type": "execute_result"
    }
   ],
   "source": [
    "data_frame1"
   ]
  },
  {
   "cell_type": "code",
   "execution_count": 166,
   "metadata": {},
   "outputs": [],
   "source": [
    "data_frame1 = data_frame1.iloc[:-1 , :]\n"
   ]
  },
  {
   "cell_type": "code",
   "execution_count": 186,
   "metadata": {},
   "outputs": [
    {
     "data": {
      "text/plain": [
       "(-0.25, 7)"
      ]
     },
     "execution_count": 186,
     "metadata": {},
     "output_type": "execute_result"
    },
    {
     "data": {
      "image/png": "[encoded data removed]",
      "text/plain": [
       "<Figure size 432x288 with 1 Axes>"
      ]
     },
     "metadata": {
      "needs_background": "light"
     },
     "output_type": "display_data"
    }
   ],
   "source": [
    "z = ['D2','D3','D4','D1','D5']\n",
    "for i in range(len(data_frame1)):\n",
    "    plt.plot(z,data_frame1.iloc[i], label = 'Exchange_{}'.format(D1.EXCHANGE.unique()[i]))\n",
    "    plt.scatter(z,data_frame1.iloc[i])\n",
    "plt.legend()\n",
    "plt.xlim(-0.2,6.5)\n",
    "plt.ylim(-0.25,7)"
   ]
  },
  {
   "cell_type": "code",
   "execution_count": null,
   "metadata": {},
   "outputs": [],
   "source": []
  }
 ],
 "metadata": {
  "kernelspec": {
   "display_name": "Python 3",
   "language": "python",
   "name": "python3"
  },
  "language_info": {
   "codemirror_mode": {
    "name": "ipython",
    "version": 3
   },
   "file_extension": ".py",
   "mimetype": "text/x-python",
   "name": "python",
   "nbconvert_exporter": "python",
   "pygments_lexer": "ipython3",
   "version": "3.7.6"
  }
 },
 "nbformat": 4,
 "nbformat_minor": 4
}
